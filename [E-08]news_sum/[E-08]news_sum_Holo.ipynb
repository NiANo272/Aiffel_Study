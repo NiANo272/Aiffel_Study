{
 "cells": [
  {
   "cell_type": "code",
   "execution_count": 1,
   "id": "4ab3ebcc",
   "metadata": {},
   "outputs": [
    {
     "name": "stderr",
     "output_type": "stream",
     "text": [
      "[nltk_data] Downloading package stopwords to /aiffel/nltk_data...\n",
      "[nltk_data]   Unzipping corpora/stopwords.zip.\n"
     ]
    }
   ],
   "source": [
    "import nltk\n",
    "nltk.download('stopwords')\n",
    "\n",
    "import numpy as np\n",
    "import pandas as pd\n",
    "import os\n",
    "import re\n",
    "import matplotlib.pyplot as plt\n",
    "from nltk.corpus import stopwords\n",
    "from bs4 import BeautifulSoup \n",
    "from tensorflow.keras.preprocessing.text import Tokenizer \n",
    "from tensorflow.keras.preprocessing.sequence import pad_sequences\n",
    "import urllib.request\n",
    "import warnings\n",
    "warnings.filterwarnings(\"ignore\", category=UserWarning, module='bs4')"
   ]
  },
  {
   "cell_type": "code",
   "execution_count": 2,
   "id": "4a006021",
   "metadata": {},
   "outputs": [
    {
     "name": "stdout",
     "output_type": "stream",
     "text": [
      "전체 샘플수 : 100000\n"
     ]
    },
    {
     "data": {
      "text/html": [
       "<div>\n",
       "<style scoped>\n",
       "    .dataframe tbody tr th:only-of-type {\n",
       "        vertical-align: middle;\n",
       "    }\n",
       "\n",
       "    .dataframe tbody tr th {\n",
       "        vertical-align: top;\n",
       "    }\n",
       "\n",
       "    .dataframe thead th {\n",
       "        text-align: right;\n",
       "    }\n",
       "</style>\n",
       "<table border=\"1\" class=\"dataframe\">\n",
       "  <thead>\n",
       "    <tr style=\"text-align: right;\">\n",
       "      <th></th>\n",
       "      <th>Text</th>\n",
       "      <th>Summary</th>\n",
       "    </tr>\n",
       "  </thead>\n",
       "  <tbody>\n",
       "    <tr>\n",
       "      <th>51623</th>\n",
       "      <td>I absolutely love the new bold Salt &amp; Vinegar ...</td>\n",
       "      <td>Amazing Taste!</td>\n",
       "    </tr>\n",
       "    <tr>\n",
       "      <th>70625</th>\n",
       "      <td>Great cookies if you are a celiac.  best cooki...</td>\n",
       "      <td>Great product and fast shipping</td>\n",
       "    </tr>\n",
       "    <tr>\n",
       "      <th>17946</th>\n",
       "      <td>I've not used it for making the good ole PB&amp;J ...</td>\n",
       "      <td>This is a must have!</td>\n",
       "    </tr>\n",
       "    <tr>\n",
       "      <th>49408</th>\n",
       "      <td>I wish I had noticed the list of ingredients b...</td>\n",
       "      <td>Not that great</td>\n",
       "    </tr>\n",
       "    <tr>\n",
       "      <th>78244</th>\n",
       "      <td>This is my kids favorite of the salts at the m...</td>\n",
       "      <td>Great stuff</td>\n",
       "    </tr>\n",
       "    <tr>\n",
       "      <th>2090</th>\n",
       "      <td>The teas seem to brew really strong so use a l...</td>\n",
       "      <td>Ok if you need to figure out what you like</td>\n",
       "    </tr>\n",
       "    <tr>\n",
       "      <th>45483</th>\n",
       "      <td>I saw Lurrie in Calais after a 6 hour drive do...</td>\n",
       "      <td>lurrie in france</td>\n",
       "    </tr>\n",
       "    <tr>\n",
       "      <th>85668</th>\n",
       "      <td>I have used this for at least 25 years.  I do ...</td>\n",
       "      <td>Best Mild Flavor</td>\n",
       "    </tr>\n",
       "    <tr>\n",
       "      <th>15894</th>\n",
       "      <td>This is a nice coffee...a go-to coffee I rely ...</td>\n",
       "      <td>Old favorite</td>\n",
       "    </tr>\n",
       "    <tr>\n",
       "      <th>7074</th>\n",
       "      <td>I ordered the disposa kups with the thought of...</td>\n",
       "      <td>disposa kups ordered from Amazon</td>\n",
       "    </tr>\n",
       "    <tr>\n",
       "      <th>73313</th>\n",
       "      <td>I've found a new taste treat. I'm not a big on...</td>\n",
       "      <td>These are great-nice texture, really crispy. S...</td>\n",
       "    </tr>\n",
       "    <tr>\n",
       "      <th>77841</th>\n",
       "      <td>Hmm, at first, I thought this was another one ...</td>\n",
       "      <td>carbonated juice</td>\n",
       "    </tr>\n",
       "    <tr>\n",
       "      <th>95639</th>\n",
       "      <td>I won't eat most light or fat free dressings b...</td>\n",
       "      <td>Really Good If You Make A Few Adjustments</td>\n",
       "    </tr>\n",
       "    <tr>\n",
       "      <th>20591</th>\n",
       "      <td>I have mixed feelings about this cat litter.&lt;b...</td>\n",
       "      <td>Mixed Feelings</td>\n",
       "    </tr>\n",
       "    <tr>\n",
       "      <th>91237</th>\n",
       "      <td>fantastic peppers. they are inexpensive, and y...</td>\n",
       "      <td>hot peppers!</td>\n",
       "    </tr>\n",
       "  </tbody>\n",
       "</table>\n",
       "</div>"
      ],
      "text/plain": [
       "                                                    Text  \\\n",
       "51623  I absolutely love the new bold Salt & Vinegar ...   \n",
       "70625  Great cookies if you are a celiac.  best cooki...   \n",
       "17946  I've not used it for making the good ole PB&J ...   \n",
       "49408  I wish I had noticed the list of ingredients b...   \n",
       "78244  This is my kids favorite of the salts at the m...   \n",
       "2090   The teas seem to brew really strong so use a l...   \n",
       "45483  I saw Lurrie in Calais after a 6 hour drive do...   \n",
       "85668  I have used this for at least 25 years.  I do ...   \n",
       "15894  This is a nice coffee...a go-to coffee I rely ...   \n",
       "7074   I ordered the disposa kups with the thought of...   \n",
       "73313  I've found a new taste treat. I'm not a big on...   \n",
       "77841  Hmm, at first, I thought this was another one ...   \n",
       "95639  I won't eat most light or fat free dressings b...   \n",
       "20591  I have mixed feelings about this cat litter.<b...   \n",
       "91237  fantastic peppers. they are inexpensive, and y...   \n",
       "\n",
       "                                                 Summary  \n",
       "51623                                     Amazing Taste!  \n",
       "70625                    Great product and fast shipping  \n",
       "17946                               This is a must have!  \n",
       "49408                                     Not that great  \n",
       "78244                                        Great stuff  \n",
       "2090          Ok if you need to figure out what you like  \n",
       "45483                                   lurrie in france  \n",
       "85668                                   Best Mild Flavor  \n",
       "15894                                       Old favorite  \n",
       "7074                    disposa kups ordered from Amazon  \n",
       "73313  These are great-nice texture, really crispy. S...  \n",
       "77841                                   carbonated juice  \n",
       "95639          Really Good If You Make A Few Adjustments  \n",
       "20591                                     Mixed Feelings  \n",
       "91237                                       hot peppers!  "
      ]
     },
     "execution_count": 2,
     "metadata": {},
     "output_type": "execute_result"
    }
   ],
   "source": [
    "#약 10만개의 셈플을 데이터로 가져옴\n",
    "data = pd.read_csv(os.getenv(\"HOME\")+\"/aiffel/news_summarization/data/Reviews.csv\", nrows=100000)\n",
    "print('전체 샘플수 :', (len(data)))\n",
    "\n",
    "#훈련에 사용할 열만 별도로 저장\n",
    "data = data[['Text','Summary']]\n",
    "data.head()\n",
    "\n",
    "#랜덤한 15개 샘플 출력\n",
    "data.sample(15)"
   ]
  },
  {
   "cell_type": "code",
   "execution_count": 4,
   "id": "33c1cb8a",
   "metadata": {},
   "outputs": [
    {
     "name": "stdout",
     "output_type": "stream",
     "text": [
      "Text 열에서 중복을 배제한 유일한 샘플의 수 : 88426\n",
      "Summary 열에서 중복을 배제한 유일한 샘플의 수 : 72348\n",
      "전체 샘플수 : 88426\n"
     ]
    }
   ],
   "source": [
    "#중복 데이터 확인\n",
    "print('Text 열에서 중복을 배제한 유일한 샘플의 수 :', data['Text'].nunique())\n",
    "print('Summary 열에서 중복을 배제한 유일한 샘플의 수 :', data['Summary'].nunique())\n",
    "\n",
    "# inplace=True 를 설정하면 DataFrame 타입 값을 return 하지 않고 data 내부를 직접적으로 바꿉니다\n",
    "data.drop_duplicates(subset = ['Text'], inplace=True)\n",
    "print('전체 샘플수 :', (len(data)))"
   ]
  },
  {
   "cell_type": "code",
   "execution_count": 6,
   "id": "4236c2cb",
   "metadata": {},
   "outputs": [
    {
     "name": "stdout",
     "output_type": "stream",
     "text": [
      "Text       0\n",
      "Summary    1\n",
      "dtype: int64\n",
      "전체 샘플수 : 88425\n"
     ]
    }
   ],
   "source": [
    "#Null 값 확인\n",
    "print(data.isnull().sum())\n",
    "\n",
    "#Null 값 제거\n",
    "data.dropna(axis=0, inplace=True)\n",
    "print('전체 샘플수 :', (len(data)))"
   ]
  },
  {
   "cell_type": "code",
   "execution_count": 9,
   "id": "385048d5",
   "metadata": {},
   "outputs": [
    {
     "name": "stdout",
     "output_type": "stream",
     "text": [
      "정규화 사전의 수:  120\n",
      "불용어 개수 : 179\n",
      "['i', 'me', 'my', 'myself', 'we', 'our', 'ours', 'ourselves', 'you', \"you're\", \"you've\", \"you'll\", \"you'd\", 'your', 'yours', 'yourself', 'yourselves', 'he', 'him', 'his', 'himself', 'she', \"she's\", 'her', 'hers', 'herself', 'it', \"it's\", 'its', 'itself', 'they', 'them', 'their', 'theirs', 'themselves', 'what', 'which', 'who', 'whom', 'this', 'that', \"that'll\", 'these', 'those', 'am', 'is', 'are', 'was', 'were', 'be', 'been', 'being', 'have', 'has', 'had', 'having', 'do', 'does', 'did', 'doing', 'a', 'an', 'the', 'and', 'but', 'if', 'or', 'because', 'as', 'until', 'while', 'of', 'at', 'by', 'for', 'with', 'about', 'against', 'between', 'into', 'through', 'during', 'before', 'after', 'above', 'below', 'to', 'from', 'up', 'down', 'in', 'out', 'on', 'off', 'over', 'under', 'again', 'further', 'then', 'once', 'here', 'there', 'when', 'where', 'why', 'how', 'all', 'any', 'both', 'each', 'few', 'more', 'most', 'other', 'some', 'such', 'no', 'nor', 'not', 'only', 'own', 'same', 'so', 'than', 'too', 'very', 's', 't', 'can', 'will', 'just', 'don', \"don't\", 'should', \"should've\", 'now', 'd', 'll', 'm', 'o', 're', 've', 'y', 'ain', 'aren', \"aren't\", 'couldn', \"couldn't\", 'didn', \"didn't\", 'doesn', \"doesn't\", 'hadn', \"hadn't\", 'hasn', \"hasn't\", 'haven', \"haven't\", 'isn', \"isn't\", 'ma', 'mightn', \"mightn't\", 'mustn', \"mustn't\", 'needn', \"needn't\", 'shan', \"shan't\", 'shouldn', \"shouldn't\", 'wasn', \"wasn't\", 'weren', \"weren't\", 'won', \"won't\", 'wouldn', \"wouldn't\"]\n"
     ]
    }
   ],
   "source": [
    "#텍스트 정규화와 불용어 제거\n",
    "#정규화 작업\n",
    "contractions = {\"ain't\": \"is not\", \"aren't\": \"are not\",\"can't\": \"cannot\", \"'cause\": \"because\", \"could've\": \"could have\", \"couldn't\": \"could not\",\n",
    "                           \"didn't\": \"did not\",  \"doesn't\": \"does not\", \"don't\": \"do not\", \"hadn't\": \"had not\", \"hasn't\": \"has not\", \"haven't\": \"have not\",\n",
    "                           \"he'd\": \"he would\",\"he'll\": \"he will\", \"he's\": \"he is\", \"how'd\": \"how did\", \"how'd'y\": \"how do you\", \"how'll\": \"how will\", \"how's\": \"how is\",\n",
    "                           \"I'd\": \"I would\", \"I'd've\": \"I would have\", \"I'll\": \"I will\", \"I'll've\": \"I will have\",\"I'm\": \"I am\", \"I've\": \"I have\", \"i'd\": \"i would\",\n",
    "                           \"i'd've\": \"i would have\", \"i'll\": \"i will\",  \"i'll've\": \"i will have\",\"i'm\": \"i am\", \"i've\": \"i have\", \"isn't\": \"is not\", \"it'd\": \"it would\",\n",
    "                           \"it'd've\": \"it would have\", \"it'll\": \"it will\", \"it'll've\": \"it will have\",\"it's\": \"it is\", \"let's\": \"let us\", \"ma'am\": \"madam\",\n",
    "                           \"mayn't\": \"may not\", \"might've\": \"might have\",\"mightn't\": \"might not\",\"mightn't've\": \"might not have\", \"must've\": \"must have\",\n",
    "                           \"mustn't\": \"must not\", \"mustn't've\": \"must not have\", \"needn't\": \"need not\", \"needn't've\": \"need not have\",\"o'clock\": \"of the clock\",\n",
    "                           \"oughtn't\": \"ought not\", \"oughtn't've\": \"ought not have\", \"shan't\": \"shall not\", \"sha'n't\": \"shall not\", \"shan't've\": \"shall not have\",\n",
    "                           \"she'd\": \"she would\", \"she'd've\": \"she would have\", \"she'll\": \"she will\", \"she'll've\": \"she will have\", \"she's\": \"she is\",\n",
    "                           \"should've\": \"should have\", \"shouldn't\": \"should not\", \"shouldn't've\": \"should not have\", \"so've\": \"so have\",\"so's\": \"so as\",\n",
    "                           \"this's\": \"this is\",\"that'd\": \"that would\", \"that'd've\": \"that would have\", \"that's\": \"that is\", \"there'd\": \"there would\",\n",
    "                           \"there'd've\": \"there would have\", \"there's\": \"there is\", \"here's\": \"here is\",\"they'd\": \"they would\", \"they'd've\": \"they would have\",\n",
    "                           \"they'll\": \"they will\", \"they'll've\": \"they will have\", \"they're\": \"they are\", \"they've\": \"they have\", \"to've\": \"to have\",\n",
    "                           \"wasn't\": \"was not\", \"we'd\": \"we would\", \"we'd've\": \"we would have\", \"we'll\": \"we will\", \"we'll've\": \"we will have\", \"we're\": \"we are\",\n",
    "                           \"we've\": \"we have\", \"weren't\": \"were not\", \"what'll\": \"what will\", \"what'll've\": \"what will have\", \"what're\": \"what are\",\n",
    "                           \"what's\": \"what is\", \"what've\": \"what have\", \"when's\": \"when is\", \"when've\": \"when have\", \"where'd\": \"where did\", \"where's\": \"where is\",\n",
    "                           \"where've\": \"where have\", \"who'll\": \"who will\", \"who'll've\": \"who will have\", \"who's\": \"who is\", \"who've\": \"who have\",\n",
    "                           \"why's\": \"why is\", \"why've\": \"why have\", \"will've\": \"will have\", \"won't\": \"will not\", \"won't've\": \"will not have\",\n",
    "                           \"would've\": \"would have\", \"wouldn't\": \"would not\", \"wouldn't've\": \"would not have\", \"y'all\": \"you all\",\n",
    "                           \"y'all'd\": \"you all would\",\"y'all'd've\": \"you all would have\",\"y'all're\": \"you all are\",\"y'all've\": \"you all have\",\n",
    "                           \"you'd\": \"you would\", \"you'd've\": \"you would have\", \"you'll\": \"you will\", \"you'll've\": \"you will have\",\n",
    "                           \"you're\": \"you are\", \"you've\": \"you have\"}\n",
    "\n",
    "print(\"정규화 사전의 수: \", len(contractions))\n",
    "\n",
    "#불용화 제거\n",
    "print('불용어 개수 :', len(stopwords.words('english') ))\n",
    "\n",
    "print(stopwords.words('english'))\n",
    "\n",
    "# 데이터 전처리 함수\n",
    "def preprocess_sentence(sentence, remove_stopwords=True):\n",
    "    sentence = sentence.lower() # 텍스트 소문자화\n",
    "    sentence = BeautifulSoup(sentence, \"lxml\").text # <br />, <a href = ...> 등의 html 태그 제거\n",
    "    sentence = re.sub(r'\\([^)]*\\)', '', sentence) # 괄호로 닫힌 문자열 (...) 제거 Ex) my husband (and myself!) for => my husband for\n",
    "    sentence = re.sub('\"','', sentence) # 쌍따옴표 \" 제거\n",
    "    sentence = ' '.join([contractions[t] if t in contractions else t for t in sentence.split(\" \")]) # 약어 정규화\n",
    "    sentence = re.sub(r\"'s\\b\",\"\", sentence) # 소유격 제거. Ex) roland's -> roland\n",
    "    sentence = re.sub(\"[^a-zA-Z]\", \" \", sentence) # 영어 외 문자(숫자, 특수문자 등) 공백으로 변환\n",
    "    sentence = re.sub('[m]{2,}', 'mm', sentence) # m이 3개 이상이면 2개로 변경. Ex) ummmmmmm yeah -> umm yeah\n",
    "    \n",
    "    # 불용어 제거 (Text)\n",
    "    if remove_stopwords:\n",
    "        tokens = ' '.join(word for word in sentence.split() if not word in stopwords.words('english') if len(word) > 1)\n",
    "    # 불용어 미제거 (Summary)\n",
    "    else:\n",
    "        tokens = ' '.join(word for word in sentence.split() if len(word) > 1)\n",
    "    return tokens"
   ]
  },
  {
   "cell_type": "code",
   "execution_count": 10,
   "id": "fbb0123c",
   "metadata": {},
   "outputs": [
    {
     "name": "stdout",
     "output_type": "stream",
     "text": [
      "text:  everything bought great infact ordered twice third ordered wasfor mother father\n",
      "summary: great way to start the day\n"
     ]
    }
   ],
   "source": [
    "#전처리 결과 확인을 위한 예시\n",
    "temp_text = 'Everything I bought was great, infact I ordered twice and the third ordered was<br />for my mother and father.'\n",
    "temp_summary = 'Great way to start (or finish) the day!!!'\n",
    "\n",
    "print(\"text: \", preprocess_sentence(temp_text))\n",
    "print(\"summary:\", preprocess_sentence(temp_summary, False))  # 불용어를 제거하지 않습니다."
   ]
  },
  {
   "cell_type": "code",
   "execution_count": 11,
   "id": "7ce16bb2",
   "metadata": {},
   "outputs": [],
   "source": [
    "#전처리 과정\n",
    "clean_text = []\n",
    "# 전체 Text 데이터에 대한 전처리 : 10분 이상 시간이 걸릴 수 있습니다. \n",
    "for s in data['Text']:\n",
    "    clean_text.append(preprocess_sentence(s))\n",
    "\n",
    "clean_summary = []\n",
    "# 전체 Summary 데이터에 대한 전처리 : 5분 이상 시간이 걸릴 수 있습니다. \n",
    "for s in data['Summary']:\n",
    "    clean_summary.append(preprocess_sentence(s, False))"
   ]
  },
  {
   "cell_type": "code",
   "execution_count": 12,
   "id": "bea7c1f7",
   "metadata": {},
   "outputs": [
    {
     "name": "stdout",
     "output_type": "stream",
     "text": [
      "Text        0\n",
      "Summary    70\n",
      "dtype: int64\n",
      "전체 샘플수 : 88355\n"
     ]
    }
   ],
   "source": [
    "data['Text'] = clean_text\n",
    "data['Summary'] = clean_summary\n",
    "\n",
    "# 빈 값을 Null 값으로 변환\n",
    "data.replace('', np.nan, inplace=True)\n",
    "\n",
    "print(data.isnull().sum())\n",
    "\n",
    "#Null 값 제거\n",
    "data.dropna(axis=0, inplace=True)\n",
    "print('전체 샘플수 :', (len(data)))"
   ]
  },
  {
   "cell_type": "code",
   "execution_count": 13,
   "id": "1676c7ee",
   "metadata": {},
   "outputs": [
    {
     "name": "stdout",
     "output_type": "stream",
     "text": [
      "텍스트의 최소 길이 : 2\n",
      "텍스트의 최대 길이 : 1235\n",
      "텍스트의 평균 길이 : 38.792428272310566\n",
      "요약의 최소 길이 : 1\n",
      "요약의 최대 길이 : 28\n",
      "요약의 평균 길이 : 4.010729443721352\n"
     ]
    },
    {
     "data": {
      "image/png": "[encoded data removed]",
      "text/plain": [
       "<Figure size 432x288 with 2 Axes>"
      ]
     },
     "metadata": {
      "needs_background": "light"
     },
     "output_type": "display_data"
    },
    {
     "data": {
      "image/png": "[encoded data removed]",
      "text/plain": [
       "<Figure size 432x288 with 1 Axes>"
      ]
     },
     "metadata": {
      "needs_background": "light"
     },
     "output_type": "display_data"
    },
    {
     "data": {
      "image/png": "[encoded data removed]",
      "text/plain": [
       "<Figure size 432x288 with 1 Axes>"
      ]
     },
     "metadata": {
      "needs_background": "light"
     },
     "output_type": "display_data"
    }
   ],
   "source": [
    "# 길이 분포 출력 (데이터의 시각화)\n",
    "import matplotlib.pyplot as plt\n",
    "\n",
    "text_len = [len(s.split()) for s in data['Text']]\n",
    "summary_len = [len(s.split()) for s in data['Summary']]\n",
    "\n",
    "print('텍스트의 최소 길이 : {}'.format(np.min(text_len)))\n",
    "print('텍스트의 최대 길이 : {}'.format(np.max(text_len)))\n",
    "print('텍스트의 평균 길이 : {}'.format(np.mean(text_len)))\n",
    "print('요약의 최소 길이 : {}'.format(np.min(summary_len)))\n",
    "print('요약의 최대 길이 : {}'.format(np.max(summary_len)))\n",
    "print('요약의 평균 길이 : {}'.format(np.mean(summary_len)))\n",
    "\n",
    "plt.subplot(1,2,1)\n",
    "plt.boxplot(text_len)\n",
    "plt.title('Text')\n",
    "plt.subplot(1,2,2)\n",
    "plt.boxplot(summary_len)\n",
    "plt.title('Summary')\n",
    "plt.tight_layout()\n",
    "plt.show()\n",
    "\n",
    "plt.title('Text')\n",
    "plt.hist(text_len, bins = 40)\n",
    "plt.xlabel('length of samples')\n",
    "plt.ylabel('number of samples')\n",
    "plt.show()\n",
    "\n",
    "plt.title('Summary')\n",
    "plt.hist(summary_len, bins = 40)\n",
    "plt.xlabel('length of samples')\n",
    "plt.ylabel('number of samples')\n",
    "plt.show()"
   ]
  },
  {
   "cell_type": "code",
   "execution_count": 15,
   "id": "16d59a93",
   "metadata": {},
   "outputs": [
    {
     "name": "stdout",
     "output_type": "stream",
     "text": [
      "전체 샘플 중 길이가 50 이하인 샘플의 비율: 0.7745119121724859\n",
      "전체 샘플 중 길이가 8 이하인 샘플의 비율: 0.9424593967517402\n"
     ]
    }
   ],
   "source": [
    "#임의로 적절한 최대 길이를 지정 (변경 가능)\n",
    "text_max_len = 50\n",
    "summary_max_len = 8\n",
    "\n",
    "#최대 길이이하의 비율\n",
    "def below_threshold_len(max_len, nested_list):\n",
    "  cnt = 0\n",
    "  for s in nested_list:\n",
    "    if(len(s.split()) <= max_len):\n",
    "        cnt = cnt + 1\n",
    "  print('전체 샘플 중 길이가 %s 이하인 샘플의 비율: %s'%(max_len, (cnt / len(nested_list))))\n",
    "\n",
    "below_threshold_len(text_max_len, data['Text'])\n",
    "below_threshold_len(summary_max_len,  data['Summary'])"
   ]
  },
  {
   "cell_type": "code",
   "execution_count": 16,
   "id": "4c1957e9",
   "metadata": {},
   "outputs": [
    {
     "name": "stdout",
     "output_type": "stream",
     "text": [
      "전체 샘플수 : 65818\n"
     ]
    }
   ],
   "source": [
    "#지정한 길이보다 긴 텍스트를 제거\n",
    "data = data[data['Text'].apply(lambda x: len(x.split()) <= text_max_len)]\n",
    "data = data[data['Summary'].apply(lambda x: len(x.split()) <= summary_max_len)]\n",
    "print('전체 샘플수 :', (len(data)))"
   ]
  },
  {
   "cell_type": "code",
   "execution_count": 17,
   "id": "e206ba58",
   "metadata": {},
   "outputs": [
    {
     "data": {
      "text/html": [
       "<div>\n",
       "<style scoped>\n",
       "    .dataframe tbody tr th:only-of-type {\n",
       "        vertical-align: middle;\n",
       "    }\n",
       "\n",
       "    .dataframe tbody tr th {\n",
       "        vertical-align: top;\n",
       "    }\n",
       "\n",
       "    .dataframe thead th {\n",
       "        text-align: right;\n",
       "    }\n",
       "</style>\n",
       "<table border=\"1\" class=\"dataframe\">\n",
       "  <thead>\n",
       "    <tr style=\"text-align: right;\">\n",
       "      <th></th>\n",
       "      <th>Text</th>\n",
       "      <th>Summary</th>\n",
       "      <th>decoder_input</th>\n",
       "      <th>decoder_target</th>\n",
       "    </tr>\n",
       "  </thead>\n",
       "  <tbody>\n",
       "    <tr>\n",
       "      <th>0</th>\n",
       "      <td>bought several vitality canned dog food produc...</td>\n",
       "      <td>good quality dog food</td>\n",
       "      <td>sostoken good quality dog food</td>\n",
       "      <td>good quality dog food eostoken</td>\n",
       "    </tr>\n",
       "    <tr>\n",
       "      <th>1</th>\n",
       "      <td>product arrived labeled jumbo salted peanuts p...</td>\n",
       "      <td>not as advertised</td>\n",
       "      <td>sostoken not as advertised</td>\n",
       "      <td>not as advertised eostoken</td>\n",
       "    </tr>\n",
       "    <tr>\n",
       "      <th>2</th>\n",
       "      <td>confection around centuries light pillowy citr...</td>\n",
       "      <td>delight says it all</td>\n",
       "      <td>sostoken delight says it all</td>\n",
       "      <td>delight says it all eostoken</td>\n",
       "    </tr>\n",
       "    <tr>\n",
       "      <th>3</th>\n",
       "      <td>looking secret ingredient robitussin believe f...</td>\n",
       "      <td>cough medicine</td>\n",
       "      <td>sostoken cough medicine</td>\n",
       "      <td>cough medicine eostoken</td>\n",
       "    </tr>\n",
       "    <tr>\n",
       "      <th>4</th>\n",
       "      <td>great taffy great price wide assortment yummy ...</td>\n",
       "      <td>great taffy</td>\n",
       "      <td>sostoken great taffy</td>\n",
       "      <td>great taffy eostoken</td>\n",
       "    </tr>\n",
       "  </tbody>\n",
       "</table>\n",
       "</div>"
      ],
      "text/plain": [
       "                                                Text                Summary  \\\n",
       "0  bought several vitality canned dog food produc...  good quality dog food   \n",
       "1  product arrived labeled jumbo salted peanuts p...      not as advertised   \n",
       "2  confection around centuries light pillowy citr...    delight says it all   \n",
       "3  looking secret ingredient robitussin believe f...         cough medicine   \n",
       "4  great taffy great price wide assortment yummy ...            great taffy   \n",
       "\n",
       "                    decoder_input                  decoder_target  \n",
       "0  sostoken good quality dog food  good quality dog food eostoken  \n",
       "1      sostoken not as advertised      not as advertised eostoken  \n",
       "2    sostoken delight says it all    delight says it all eostoken  \n",
       "3         sostoken cough medicine         cough medicine eostoken  \n",
       "4            sostoken great taffy            great taffy eostoken  "
      ]
     },
     "execution_count": 17,
     "metadata": {},
     "output_type": "execute_result"
    }
   ],
   "source": [
    "# 요약 데이터에는 시작 토큰과 종료 토큰을 추가한다.\n",
    "data['decoder_input'] = data['Summary'].apply(lambda x : 'sostoken '+ x)\n",
    "data['decoder_target'] = data['Summary'].apply(lambda x : x + ' eostoken')\n",
    "data.head()"
   ]
  },
  {
   "cell_type": "code",
   "execution_count": 18,
   "id": "c19586d6",
   "metadata": {},
   "outputs": [],
   "source": [
    "#인코더, 디코더 입력 레이블을 다시 Numpy 타입으로 저장\n",
    "encoder_input = np.array(data['Text']) # 인코더의 입력\n",
    "decoder_input = np.array(data['decoder_input']) # 디코더의 입력\n",
    "decoder_target = np.array(data['decoder_target']) # 디코더의 레이블"
   ]
  },
  {
   "cell_type": "code",
   "execution_count": 21,
   "id": "086e366a",
   "metadata": {},
   "outputs": [
    {
     "name": "stdout",
     "output_type": "stream",
     "text": [
      "[10169  8948 33856 ... 28111 56860  2047]\n",
      "테스트 데이터의 수 : 13163\n",
      "훈련 데이터의 개수 : 52655\n",
      "훈련 레이블의 개수 : 52655\n",
      "테스트 데이터의 개수 : 13163\n",
      "테스트 레이블의 개수 : 13163\n"
     ]
    }
   ],
   "source": [
    "#훈련데이터, 테스트데이터 분리\n",
    "\n",
    "#정수 시퀀스 생성\n",
    "indices = np.arange(encoder_input.shape[0])\n",
    "np.random.shuffle(indices)\n",
    "print(indices)\n",
    "\n",
    "#생성된 정수 시퀀스를 이용해 데이터 샘플 순서를 정의\n",
    "encoder_input = encoder_input[indices]\n",
    "decoder_input = decoder_input[indices]\n",
    "decoder_target = decoder_target[indices]\n",
    "\n",
    "#섞인 데이터를 8:2 비율로 분리\n",
    "n_of_val = int(len(encoder_input)*0.2)\n",
    "print('테스트 데이터의 수 :', n_of_val)\n",
    "\n",
    "encoder_input_train = encoder_input[:-n_of_val]\n",
    "decoder_input_train = decoder_input[:-n_of_val]\n",
    "decoder_target_train = decoder_target[:-n_of_val]\n",
    "\n",
    "encoder_input_test = encoder_input[-n_of_val:]\n",
    "decoder_input_test = decoder_input[-n_of_val:]\n",
    "decoder_target_test = decoder_target[-n_of_val:]\n",
    "\n",
    "print('훈련 데이터의 개수 :', len(encoder_input_train))\n",
    "print('훈련 레이블의 개수 :', len(decoder_input_train))\n",
    "print('테스트 데이터의 개수 :', len(encoder_input_test))\n",
    "print('테스트 레이블의 개수 :', len(decoder_input_test))"
   ]
  },
  {
   "cell_type": "code",
   "execution_count": 23,
   "id": "04cd4b8e",
   "metadata": {},
   "outputs": [
    {
     "name": "stdout",
     "output_type": "stream",
     "text": [
      "단어 집합(vocabulary)의 크기 : 32006\n",
      "등장 빈도가 6번 이하인 희귀 단어의 수: 23756\n",
      "단어 집합에서 희귀 단어를 제외시킬 경우의 단어 집합의 크기 8250\n",
      "단어 집합에서 희귀 단어의 비율: 74.22358307817284\n",
      "전체 등장 빈도에서 희귀 단어 등장 빈도 비율: 3.39113601244997\n"
     ]
    }
   ],
   "source": [
    "#단어 집합 만들기\n",
    "src_tokenizer = Tokenizer() # 토크나이저 정의\n",
    "src_tokenizer.fit_on_texts(encoder_input_train) # 입력된 데이터로부터 단어 집합 생성\n",
    "\n",
    "threshold = 7\n",
    "total_cnt = len(src_tokenizer.word_index) # 단어의 수\n",
    "rare_cnt = 0 # 등장 빈도수가 threshold보다 작은 단어의 개수를 카운트\n",
    "total_freq = 0 # 훈련 데이터의 전체 단어 빈도수 총 합\n",
    "rare_freq = 0 # 등장 빈도수가 threshold보다 작은 단어의 등장 빈도수의 총 합\n",
    "\n",
    "# 단어와 빈도수의 쌍(pair)을 key와 value로 받는다.\n",
    "for key, value in src_tokenizer.word_counts.items():\n",
    "    total_freq = total_freq + value\n",
    "\n",
    "    # 단어의 등장 빈도수가 threshold보다 작으면\n",
    "    if(value < threshold):\n",
    "        rare_cnt = rare_cnt + 1\n",
    "        rare_freq = rare_freq + value\n",
    "\n",
    "print('단어 집합(vocabulary)의 크기 :', total_cnt)\n",
    "print('등장 빈도가 %s번 이하인 희귀 단어의 수: %s'%(threshold - 1, rare_cnt))\n",
    "print('단어 집합에서 희귀 단어를 제외시킬 경우의 단어 집합의 크기 %s'%(total_cnt - rare_cnt))\n",
    "print(\"단어 집합에서 희귀 단어의 비율:\", (rare_cnt / total_cnt)*100)\n",
    "print(\"전체 등장 빈도에서 희귀 단어 등장 빈도 비율:\", (rare_freq / total_freq)*100)"
   ]
  },
  {
   "cell_type": "code",
   "execution_count": 24,
   "id": "618d6ce9",
   "metadata": {},
   "outputs": [
    {
     "name": "stdout",
     "output_type": "stream",
     "text": [
      "[[111, 5, 88, 631, 138, 218, 3665, 3072, 874, 32, 83, 1747, 71, 152, 3599, 21], [50, 548, 152, 2049, 500, 95, 338, 448, 1282, 2, 77, 64, 81, 104, 56, 75, 169, 7195, 2, 62, 57, 28, 40, 87], [301, 143, 352, 22, 1732, 3906, 119, 352, 90, 27, 1929, 119]]\n"
     ]
    }
   ],
   "source": [
    "#등장 빈도가 6회 이하인 단어들은 정수 인코딩 과정에서 빼고 훈련 데이터에서 제거\n",
    "#제거할 경우 약 8000개의 집합 크기가 나온다.\n",
    "src_vocab = 8000\n",
    "src_tokenizer = Tokenizer(num_words=src_vocab) # 단어 집합의 크기를 8,000으로 제한\n",
    "src_tokenizer.fit_on_texts(encoder_input_train) # 단어 집합 재생성\n",
    "\n",
    "# 텍스트 시퀀스를 정수 시퀀스로 변환\n",
    "encoder_input_train = src_tokenizer.texts_to_sequences(encoder_input_train) \n",
    "encoder_input_test = src_tokenizer.texts_to_sequences(encoder_input_test)\n",
    "\n",
    "# 잘 진행되었는지 샘플 출력\n",
    "print(encoder_input_train[:3])"
   ]
  },
  {
   "cell_type": "code",
   "execution_count": 25,
   "id": "41ecbfe3",
   "metadata": {},
   "outputs": [
    {
     "name": "stdout",
     "output_type": "stream",
     "text": [
      "단어 집합(vocabulary)의 크기 : 10567\n",
      "등장 빈도가 5번 이하인 희귀 단어의 수: 8182\n",
      "단어 집합에서 희귀 단어를 제외시킬 경우의 단어 집합의 크기 2385\n",
      "단어 집합에서 희귀 단어의 비율: 77.42973407778935\n",
      "전체 등장 빈도에서 희귀 단어 등장 빈도 비율: 5.933917444142253\n"
     ]
    }
   ],
   "source": [
    "#요약 데이터에도 동일한 작업을 실행\n",
    "tar_tokenizer = Tokenizer()\n",
    "tar_tokenizer.fit_on_texts(decoder_input_train)\n",
    "\n",
    "threshold = 6\n",
    "total_cnt = len(tar_tokenizer.word_index) # 단어의 수\n",
    "rare_cnt = 0 # 등장 빈도수가 threshold보다 작은 단어의 개수를 카운트\n",
    "total_freq = 0 # 훈련 데이터의 전체 단어 빈도수 총 합\n",
    "rare_freq = 0 # 등장 빈도수가 threshold보다 작은 단어의 등장 빈도수의 총 합\n",
    "\n",
    "# 단어와 빈도수의 쌍(pair)을 key와 value로 받는다.\n",
    "for key, value in tar_tokenizer.word_counts.items():\n",
    "    total_freq = total_freq + value\n",
    "\n",
    "    # 단어의 등장 빈도수가 threshold보다 작으면\n",
    "    if(value < threshold):\n",
    "        rare_cnt = rare_cnt + 1\n",
    "        rare_freq = rare_freq + value\n",
    "\n",
    "print('단어 집합(vocabulary)의 크기 :', total_cnt)\n",
    "print('등장 빈도가 %s번 이하인 희귀 단어의 수: %s'%(threshold - 1, rare_cnt))\n",
    "print('단어 집합에서 희귀 단어를 제외시킬 경우의 단어 집합의 크기 %s'%(total_cnt - rare_cnt))\n",
    "print(\"단어 집합에서 희귀 단어의 비율:\", (rare_cnt / total_cnt)*100)\n",
    "print(\"전체 등장 빈도에서 희귀 단어 등장 빈도 비율:\", (rare_freq / total_freq)*100)"
   ]
  },
  {
   "cell_type": "code",
   "execution_count": 26,
   "id": "90dd5b54",
   "metadata": {},
   "outputs": [
    {
     "name": "stdout",
     "output_type": "stream",
     "text": [
      "input\n",
      "input  [[1, 49], [1, 7, 111, 61, 218], [1, 24, 159], [1, 79, 625, 62, 65, 108, 1798], [1, 355, 1354, 45, 355]]\n",
      "target\n",
      "decoder  [[49, 2], [7, 111, 61, 218, 2], [24, 159, 2], [79, 625, 62, 65, 108, 1798, 2], [355, 1354, 45, 355, 2]]\n"
     ]
    }
   ],
   "source": [
    "tar_vocab = 2000\n",
    "tar_tokenizer = Tokenizer(num_words=tar_vocab) \n",
    "tar_tokenizer.fit_on_texts(decoder_input_train)\n",
    "tar_tokenizer.fit_on_texts(decoder_target_train)\n",
    "\n",
    "# 텍스트 시퀀스를 정수 시퀀스로 변환\n",
    "decoder_input_train = tar_tokenizer.texts_to_sequences(decoder_input_train) \n",
    "decoder_target_train = tar_tokenizer.texts_to_sequences(decoder_target_train)\n",
    "decoder_input_test = tar_tokenizer.texts_to_sequences(decoder_input_test)\n",
    "decoder_target_test = tar_tokenizer.texts_to_sequences(decoder_target_test)\n",
    "\n",
    "# 잘 변환되었는지 확인\n",
    "print('input')\n",
    "print('input ',decoder_input_train[:5])\n",
    "print('target')\n",
    "print('decoder ',decoder_target_train[:5])"
   ]
  },
  {
   "cell_type": "code",
   "execution_count": 27,
   "id": "1928f0b9",
   "metadata": {},
   "outputs": [
    {
     "name": "stdout",
     "output_type": "stream",
     "text": [
      "삭제할 훈련 데이터의 개수 : 1259\n",
      "삭제할 테스트 데이터의 개수 : 340\n",
      "훈련 데이터의 개수 : 51396\n",
      "훈련 레이블의 개수 : 51396\n",
      "테스트 데이터의 개수 : 12823\n",
      "테스트 레이블의 개수 : 12823\n"
     ]
    }
   ],
   "source": [
    "drop_train = [index for index, sentence in enumerate(decoder_input_train) if len(sentence) == 1]\n",
    "drop_test = [index for index, sentence in enumerate(decoder_input_test) if len(sentence) == 1]\n",
    "\n",
    "print('삭제할 훈련 데이터의 개수 :', len(drop_train))\n",
    "print('삭제할 테스트 데이터의 개수 :', len(drop_test))\n",
    "\n",
    "encoder_input_train = [sentence for index, sentence in enumerate(encoder_input_train) if index not in drop_train]\n",
    "decoder_input_train = [sentence for index, sentence in enumerate(decoder_input_train) if index not in drop_train]\n",
    "decoder_target_train = [sentence for index, sentence in enumerate(decoder_target_train) if index not in drop_train]\n",
    "\n",
    "encoder_input_test = [sentence for index, sentence in enumerate(encoder_input_test) if index not in drop_test]\n",
    "decoder_input_test = [sentence for index, sentence in enumerate(decoder_input_test) if index not in drop_test]\n",
    "decoder_target_test = [sentence for index, sentence in enumerate(decoder_target_test) if index not in drop_test]\n",
    "\n",
    "print('훈련 데이터의 개수 :', len(encoder_input_train))\n",
    "print('훈련 레이블의 개수 :', len(decoder_input_train))\n",
    "print('테스트 데이터의 개수 :', len(encoder_input_test))\n",
    "print('테스트 레이블의 개수 :', len(decoder_input_test))"
   ]
  },
  {
   "cell_type": "code",
   "execution_count": 28,
   "id": "c0ddd21e",
   "metadata": {},
   "outputs": [],
   "source": [
    "#패딩\n",
    "encoder_input_train = pad_sequences(encoder_input_train, maxlen=text_max_len, padding='post')\n",
    "encoder_input_test = pad_sequences(encoder_input_test, maxlen=text_max_len, padding='post')\n",
    "decoder_input_train = pad_sequences(decoder_input_train, maxlen=summary_max_len, padding='post')\n",
    "decoder_target_train = pad_sequences(decoder_target_train, maxlen=summary_max_len, padding='post')\n",
    "decoder_input_test = pad_sequences(decoder_input_test, maxlen=summary_max_len, padding='post')\n",
    "decoder_target_test = pad_sequences(decoder_target_test, maxlen=summary_max_len, padding='post')"
   ]
  },
  {
   "cell_type": "code",
   "execution_count": 29,
   "id": "7cde09ca",
   "metadata": {},
   "outputs": [
    {
     "name": "stdout",
     "output_type": "stream",
     "text": [
      "WARNING:tensorflow:Layer lstm will not use cuDNN kernels since it doesn't meet the criteria. It will use a generic GPU kernel as fallback when running on GPU.\n",
      "WARNING:tensorflow:Layer lstm_1 will not use cuDNN kernels since it doesn't meet the criteria. It will use a generic GPU kernel as fallback when running on GPU.\n",
      "WARNING:tensorflow:Layer lstm_2 will not use cuDNN kernels since it doesn't meet the criteria. It will use a generic GPU kernel as fallback when running on GPU.\n"
     ]
    }
   ],
   "source": [
    "#모델 설계\n",
    "from tensorflow.keras.layers import Input, LSTM, Embedding, Dense, Concatenate, TimeDistributed\n",
    "from tensorflow.keras.models import Model\n",
    "from tensorflow.keras.callbacks import EarlyStopping, ModelCheckpoint\n",
    "\n",
    "\n",
    "# 인코더 설계 시작\n",
    "embedding_dim = 128\n",
    "hidden_size = 256\n",
    "\n",
    "# 인코더\n",
    "encoder_inputs = Input(shape=(text_max_len,))\n",
    "\n",
    "# 인코더의 임베딩 층\n",
    "enc_emb = Embedding(src_vocab, embedding_dim)(encoder_inputs)\n",
    "\n",
    "# 인코더의 LSTM 1\n",
    "encoder_lstm1 = LSTM(hidden_size, return_sequences=True, return_state=True ,dropout = 0.4, recurrent_dropout = 0.4)\n",
    "encoder_output1, state_h1, state_c1 = encoder_lstm1(enc_emb)\n",
    "\n",
    "# 인코더의 LSTM 2\n",
    "encoder_lstm2 = LSTM(hidden_size, return_sequences=True, return_state=True, dropout=0.4, recurrent_dropout=0.4)\n",
    "encoder_output2, state_h2, state_c2 = encoder_lstm2(encoder_output1)\n",
    "\n",
    "# 인코더의 LSTM 3\n",
    "encoder_lstm3 = LSTM(hidden_size, return_state=True, return_sequences=True, dropout=0.4, recurrent_dropout=0.4)\n",
    "encoder_outputs, state_h, state_c= encoder_lstm3(encoder_output2)"
   ]
  },
  {
   "cell_type": "code",
   "execution_count": 30,
   "id": "3ee42096",
   "metadata": {},
   "outputs": [
    {
     "name": "stdout",
     "output_type": "stream",
     "text": [
      "WARNING:tensorflow:Layer lstm_3 will not use cuDNN kernels since it doesn't meet the criteria. It will use a generic GPU kernel as fallback when running on GPU.\n"
     ]
    }
   ],
   "source": [
    "#디코더 설계\n",
    "decoder_inputs = Input(shape=(None,))\n",
    "\n",
    "# 디코더의 임베딩 층\n",
    "dec_emb_layer = Embedding(tar_vocab, embedding_dim)\n",
    "dec_emb = dec_emb_layer(decoder_inputs)\n",
    "\n",
    "# 디코더의 LSTM\n",
    "decoder_lstm = LSTM(hidden_size, return_sequences=True, return_state=True, dropout=0.4, recurrent_dropout=0.2)\n",
    "decoder_outputs, _, _ = decoder_lstm(dec_emb, initial_state=[state_h, state_c])"
   ]
  },
  {
   "cell_type": "code",
   "execution_count": 31,
   "id": "6d370cbf",
   "metadata": {},
   "outputs": [
    {
     "name": "stdout",
     "output_type": "stream",
     "text": [
      "Model: \"model\"\n",
      "__________________________________________________________________________________________________\n",
      "Layer (type)                    Output Shape         Param #     Connected to                     \n",
      "==================================================================================================\n",
      "input_1 (InputLayer)            [(None, 50)]         0                                            \n",
      "__________________________________________________________________________________________________\n",
      "embedding (Embedding)           (None, 50, 128)      1024000     input_1[0][0]                    \n",
      "__________________________________________________________________________________________________\n",
      "lstm (LSTM)                     [(None, 50, 256), (N 394240      embedding[0][0]                  \n",
      "__________________________________________________________________________________________________\n",
      "input_2 (InputLayer)            [(None, None)]       0                                            \n",
      "__________________________________________________________________________________________________\n",
      "lstm_1 (LSTM)                   [(None, 50, 256), (N 525312      lstm[0][0]                       \n",
      "__________________________________________________________________________________________________\n",
      "embedding_1 (Embedding)         (None, None, 128)    256000      input_2[0][0]                    \n",
      "__________________________________________________________________________________________________\n",
      "lstm_2 (LSTM)                   [(None, 50, 256), (N 525312      lstm_1[0][0]                     \n",
      "__________________________________________________________________________________________________\n",
      "lstm_3 (LSTM)                   [(None, None, 256),  394240      embedding_1[0][0]                \n",
      "                                                                 lstm_2[0][1]                     \n",
      "                                                                 lstm_2[0][2]                     \n",
      "__________________________________________________________________________________________________\n",
      "dense (Dense)                   (None, None, 2000)   514000      lstm_3[0][0]                     \n",
      "==================================================================================================\n",
      "Total params: 3,633,104\n",
      "Trainable params: 3,633,104\n",
      "Non-trainable params: 0\n",
      "__________________________________________________________________________________________________\n"
     ]
    }
   ],
   "source": [
    "# 디코더의 출력층\n",
    "decoder_softmax_layer = Dense(tar_vocab, activation='softmax')\n",
    "decoder_softmax_outputs = decoder_softmax_layer(decoder_outputs) \n",
    "\n",
    "# 모델 정의\n",
    "model = Model([encoder_inputs, decoder_inputs], decoder_softmax_outputs)\n",
    "model.summary()"
   ]
  },
  {
   "cell_type": "code",
   "execution_count": 32,
   "id": "369c8b79",
   "metadata": {},
   "outputs": [
    {
     "name": "stdout",
     "output_type": "stream",
     "text": [
      "Model: \"model_1\"\n",
      "__________________________________________________________________________________________________\n",
      "Layer (type)                    Output Shape         Param #     Connected to                     \n",
      "==================================================================================================\n",
      "input_1 (InputLayer)            [(None, 50)]         0                                            \n",
      "__________________________________________________________________________________________________\n",
      "embedding (Embedding)           (None, 50, 128)      1024000     input_1[0][0]                    \n",
      "__________________________________________________________________________________________________\n",
      "lstm (LSTM)                     [(None, 50, 256), (N 394240      embedding[0][0]                  \n",
      "__________________________________________________________________________________________________\n",
      "input_2 (InputLayer)            [(None, None)]       0                                            \n",
      "__________________________________________________________________________________________________\n",
      "lstm_1 (LSTM)                   [(None, 50, 256), (N 525312      lstm[0][0]                       \n",
      "__________________________________________________________________________________________________\n",
      "embedding_1 (Embedding)         (None, None, 128)    256000      input_2[0][0]                    \n",
      "__________________________________________________________________________________________________\n",
      "lstm_2 (LSTM)                   [(None, 50, 256), (N 525312      lstm_1[0][0]                     \n",
      "__________________________________________________________________________________________________\n",
      "lstm_3 (LSTM)                   [(None, None, 256),  394240      embedding_1[0][0]                \n",
      "                                                                 lstm_2[0][1]                     \n",
      "                                                                 lstm_2[0][2]                     \n",
      "__________________________________________________________________________________________________\n",
      "attention_layer (AdditiveAttent (None, None, 256)    256         lstm_3[0][0]                     \n",
      "                                                                 lstm_2[0][0]                     \n",
      "__________________________________________________________________________________________________\n",
      "concat_layer (Concatenate)      (None, None, 512)    0           lstm_3[0][0]                     \n",
      "                                                                 attention_layer[0][0]            \n",
      "__________________________________________________________________________________________________\n",
      "dense_1 (Dense)                 (None, None, 2000)   1026000     concat_layer[0][0]               \n",
      "==================================================================================================\n",
      "Total params: 4,145,360\n",
      "Trainable params: 4,145,360\n",
      "Non-trainable params: 0\n",
      "__________________________________________________________________________________________________\n"
     ]
    }
   ],
   "source": [
    "#어텐션 메커니즘\n",
    "from tensorflow.keras.layers import AdditiveAttention\n",
    "\n",
    "# 어텐션 층(어텐션 함수)\n",
    "attn_layer = AdditiveAttention(name='attention_layer')\n",
    "\n",
    "# 인코더와 디코더의 모든 time step의 hidden state를 어텐션 층에 전달하고 결과를 리턴\n",
    "attn_out = attn_layer([decoder_outputs, encoder_outputs])\n",
    "\n",
    "\n",
    "# 어텐션의 결과와 디코더의 hidden state들을 연결\n",
    "decoder_concat_input = Concatenate(axis=-1, name='concat_layer')([decoder_outputs, attn_out])\n",
    "\n",
    "# 디코더의 출력층\n",
    "decoder_softmax_layer = Dense(tar_vocab, activation='softmax')\n",
    "decoder_softmax_outputs = decoder_softmax_layer(decoder_concat_input)\n",
    "\n",
    "# 모델 정의\n",
    "model = Model([encoder_inputs, decoder_inputs], decoder_softmax_outputs)\n",
    "model.summary()"
   ]
  },
  {
   "cell_type": "code",
   "execution_count": 33,
   "id": "21b69db1",
   "metadata": {},
   "outputs": [
    {
     "name": "stdout",
     "output_type": "stream",
     "text": [
      "Epoch 1/50\n",
      "201/201 [==============================] - 199s 923ms/step - loss: 2.7019 - val_loss: 2.4136\n",
      "Epoch 2/50\n",
      "201/201 [==============================] - 185s 921ms/step - loss: 2.3736 - val_loss: 2.2647\n",
      "Epoch 3/50\n",
      "201/201 [==============================] - 185s 921ms/step - loss: 2.2142 - val_loss: 2.1522\n",
      "Epoch 4/50\n",
      "201/201 [==============================] - 184s 917ms/step - loss: 2.1001 - val_loss: 2.0591\n",
      "Epoch 5/50\n",
      "201/201 [==============================] - 183s 909ms/step - loss: 2.0176 - val_loss: 2.0033\n",
      "Epoch 6/50\n",
      "201/201 [==============================] - 183s 912ms/step - loss: 1.9531 - val_loss: 1.9656\n",
      "Epoch 7/50\n",
      "201/201 [==============================] - 183s 912ms/step - loss: 1.9013 - val_loss: 1.9351\n",
      "Epoch 8/50\n",
      "201/201 [==============================] - 183s 910ms/step - loss: 1.8589 - val_loss: 1.9217\n",
      "Epoch 9/50\n",
      "201/201 [==============================] - 182s 909ms/step - loss: 1.8194 - val_loss: 1.9026\n",
      "Epoch 10/50\n",
      "201/201 [==============================] - 182s 905ms/step - loss: 1.7845 - val_loss: 1.8832\n",
      "Epoch 11/50\n",
      "201/201 [==============================] - 181s 904ms/step - loss: 1.7523 - val_loss: 1.8747\n",
      "Epoch 12/50\n",
      "201/201 [==============================] - 183s 910ms/step - loss: 1.7219 - val_loss: 1.8686\n",
      "Epoch 13/50\n",
      "201/201 [==============================] - 182s 905ms/step - loss: 1.6941 - val_loss: 1.8615\n",
      "Epoch 14/50\n",
      "201/201 [==============================] - 182s 906ms/step - loss: 1.6674 - val_loss: 1.8555\n",
      "Epoch 15/50\n",
      "201/201 [==============================] - 181s 899ms/step - loss: 1.6419 - val_loss: 1.8576\n",
      "Epoch 16/50\n",
      "201/201 [==============================] - 184s 915ms/step - loss: 1.6178 - val_loss: 1.8536\n",
      "Epoch 17/50\n",
      "201/201 [==============================] - 182s 908ms/step - loss: 1.5954 - val_loss: 1.8534\n",
      "Epoch 18/50\n",
      "201/201 [==============================] - 182s 907ms/step - loss: 1.5741 - val_loss: 1.8539\n",
      "Epoch 19/50\n",
      "201/201 [==============================] - 180s 895ms/step - loss: 1.5526 - val_loss: 1.8526\n",
      "Epoch 20/50\n",
      "201/201 [==============================] - 131s 653ms/step - loss: 1.5322 - val_loss: 1.8554\n",
      "Epoch 21/50\n",
      "201/201 [==============================] - 132s 655ms/step - loss: 1.5130 - val_loss: 1.8554\n",
      "Epoch 00021: early stopping\n"
     ]
    }
   ],
   "source": [
    "#모델 훈련\n",
    "model.compile(optimizer='rmsprop', loss='sparse_categorical_crossentropy')\n",
    "es = EarlyStopping(monitor='val_loss', patience=2, verbose=1) #조기종료\n",
    "history = model.fit(x=[encoder_input_train, decoder_input_train], y=decoder_target_train, \\\n",
    "          validation_data=([encoder_input_test, decoder_input_test], decoder_target_test), \\\n",
    "          batch_size=256, callbacks=[es], epochs=50)"
   ]
  },
  {
   "cell_type": "code",
   "execution_count": 34,
   "id": "2f163d47",
   "metadata": {},
   "outputs": [
    {
     "data": {
      "image/png": "[encoded data removed]",
      "text/plain": [
       "<Figure size 432x288 with 1 Axes>"
      ]
     },
     "metadata": {
      "needs_background": "light"
     },
     "output_type": "display_data"
    }
   ],
   "source": [
    "#훈련 Loss 와 Acc의 시각화\n",
    "plt.plot(history.history['loss'], label='train')\n",
    "plt.plot(history.history['val_loss'], label='test')\n",
    "plt.legend()\n",
    "plt.show()"
   ]
  },
  {
   "cell_type": "code",
   "execution_count": 38,
   "id": "bec15e2d",
   "metadata": {},
   "outputs": [],
   "source": [
    "#복원을 위한 사전을 준비\n",
    "src_index_to_word = src_tokenizer.index_word # 원문 단어 집합에서 정수 -> 단어를 얻음\n",
    "tar_word_to_index = tar_tokenizer.word_index # 요약 단어 집합에서 단어 -> 정수를 얻음\n",
    "tar_index_to_word = tar_tokenizer.index_word # 요약 단어 집합에서 정수 -> 단어를 얻음\n",
    "\n",
    "# 인코더 설계\n",
    "encoder_model = Model(inputs=encoder_inputs, outputs=[encoder_outputs, state_h, state_c])\n",
    "\n",
    "# 이전 시점의 상태들을 저장하는 텐서\n",
    "decoder_state_input_h = Input(shape=(hidden_size,))\n",
    "decoder_state_input_c = Input(shape=(hidden_size,))\n",
    "\n",
    "dec_emb2 = dec_emb_layer(decoder_inputs)\n",
    "\n",
    "# 문장의 다음 단어를 예측하기 위해서 초기 상태(initial_state)를 이전 시점의 상태로 사용. 이는 뒤의 함수 decode_sequence()에 구현\n",
    "# 훈련 과정에서와 달리 LSTM의 리턴하는 은닉 상태와 셀 상태인 state_h와 state_c를 버리지 않음.\n",
    "decoder_outputs2, state_h2, state_c2 = decoder_lstm(dec_emb2, initial_state=[decoder_state_input_h, decoder_state_input_c])\n",
    "\n",
    "# 어텐션 함수\n",
    "decoder_hidden_state_input = Input(shape=(text_max_len, hidden_size))\n",
    "attn_out_inf = attn_layer([decoder_outputs2, decoder_hidden_state_input])\n",
    "decoder_inf_concat = Concatenate(axis=-1, name='concat')([decoder_outputs2, attn_out_inf])\n",
    "\n",
    "# 디코더의 출력층\n",
    "decoder_outputs2 = decoder_softmax_layer(decoder_inf_concat) \n",
    "\n",
    "# 최종 디코더 모델\n",
    "decoder_model = Model(\n",
    "    [decoder_inputs] + [decoder_hidden_state_input,decoder_state_input_h, decoder_state_input_c],\n",
    "    [decoder_outputs2] + [state_h2, state_c2])\n",
    "\n",
    "#인퍼런스 단계에서 단어 시퀀스를 완성하는 함수\n",
    "def decode_sequence(input_seq):\n",
    "    # 입력으로부터 인코더의 상태를 얻음\n",
    "    e_out, e_h, e_c = encoder_model.predict(input_seq)\n",
    "\n",
    "     # <SOS>에 해당하는 토큰 생성\n",
    "    target_seq = np.zeros((1,1))\n",
    "    target_seq[0, 0] = tar_word_to_index['sostoken']\n",
    "\n",
    "    stop_condition = False\n",
    "    decoded_sentence = ''\n",
    "    while not stop_condition: # stop_condition이 True가 될 때까지 루프 반복\n",
    "\n",
    "        output_tokens, h, c = decoder_model.predict([target_seq] + [e_out, e_h, e_c])\n",
    "        sampled_token_index = np.argmax(output_tokens[0, -1, :])\n",
    "        sampled_token = tar_index_to_word[sampled_token_index]\n",
    "\n",
    "        if (sampled_token!='eostoken'):\n",
    "            decoded_sentence += ' '+sampled_token\n",
    "\n",
    "        #  <eos>에 도달하거나 최대 길이를 넘으면 중단.\n",
    "        if (sampled_token == 'eostoken'  or len(decoded_sentence.split()) >= (summary_max_len-1)):\n",
    "            stop_condition = True\n",
    "\n",
    "        # 길이가 1인 타겟 시퀀스를 업데이트\n",
    "        target_seq = np.zeros((1,1))\n",
    "        target_seq[0, 0] = sampled_token_index\n",
    "\n",
    "        # 상태를 업데이트 합니다.\n",
    "        e_h, e_c = h, c\n",
    "\n",
    "    return decoded_sentence"
   ]
  },
  {
   "cell_type": "code",
   "execution_count": 39,
   "id": "a333b37b",
   "metadata": {
    "scrolled": false
   },
   "outputs": [
    {
     "name": "stdout",
     "output_type": "stream",
     "text": [
      "원문 : even though like everything sampler sampler exactly said would surprised much sampler get lot money whats best get multiple ice cream bars great break piece let melt tongue see really ice cream took backyard bbq hit tried peaches apples yet ice cream alone makes five star product \n",
      "실제 요약 : loved it \n",
      "예측 요약 :  delicious\n",
      "\n",
      "\n",
      "원문 : really good taste great weird artificial taste little bitty grounds floating crunchy brown water actual cup coffee make microwave great get pack less cup \n",
      "실제 요약 : real coffee \n",
      "예측 요약 :  not bad\n",
      "\n",
      "\n",
      "원문 : enjoying eating candy packaging little wasteful however candy good idea sour sugar grains would make huge mess wanted travel candy bad compared lot candies trans fat candies might still even lists allowed write trans fat candy contains less per serving trans fat \n",
      "실제 요약 : really yummy \n",
      "예측 요약 :  not as good as expected\n",
      "\n",
      "\n",
      "원문 : anyone looking delicious healthy snack doctor answer however hard crispiness people good teeth \n",
      "실제 요약 : delicious and healthy snack \n",
      "예측 요약 :  delicious\n",
      "\n",
      "\n",
      "원문 : best black tea agree good black teas consistency deep rich delicious quality tea desire must consume yorkshire gold enjoyed tea many many years recommend highly brian \n",
      "실제 요약 : quite simply \n",
      "예측 요약 :  great tea\n",
      "\n",
      "\n",
      "원문 : like fact salt fine however needed salt shaker larger holes tends clog even though grains rice bottom usually helps problem overall good small amount needed \n",
      "실제 요약 : himalayan salt \n",
      "예측 요약 :  too salty\n",
      "\n",
      "\n",
      "원문 : taste right think kind oil using best cashews costco get next time \n",
      "실제 요약 : tastes funny \n",
      "예측 요약 :  great stuff\n",
      "\n",
      "\n",
      "원문 : stuff great use make cafe mochas chocolate covered strawberries yummy key stevia use sparingly much bitter right amount tastes great barely use half drop strawberry enough maybe could dilute little water something make easier use right amount love stevia white sugar \n",
      "실제 요약 : fantastic \n",
      "예측 요약 :  great for iced\n",
      "\n",
      "\n",
      "원문 : good variety chocolate bad everyone says flavors great gives family friends variety latte steamer favorite hazelnut stick time good buy \n",
      "실제 요약 : like this but \n",
      "예측 요약 :  delicious\n",
      "\n",
      "\n",
      "원문 : fine product think ever use kind salt food comes alive use much less salt buy time fast delivery good price well \n",
      "실제 요약 : salt of the earth \n",
      "예측 요약 :  salt\n",
      "\n",
      "\n",
      "원문 : oh goodness best passed tastes tests house beyond handing ordering everyone getting one christmas disappointed pb powdered peanut butter less fat calories oz \n",
      "실제 요약 : pb \n",
      "예측 요약 :  best ever\n",
      "\n",
      "\n",
      "원문 : taste texture milk great however realize vanilla version living harvest hemp milk sugar ordered since eating sugar help get rid disease going go back living harvest vanilla sweetened rice syrup know could purchase unsweetened ok protein shakes raspberries need something sweetened cereal living harvest vanilla go subscribe save \n",
      "실제 요약 : great taste but contains sugar \n",
      "예측 요약 :  good but not great\n",
      "\n",
      "\n",
      "원문 : serve natural value use pate varieties contain synthetic form vitamin sodium girls love turkey one favorite like chicken one get even little eater much relish \n",
      "실제 요약 : another natural value favorite \n",
      "예측 요약 :  great product\n",
      "\n",
      "\n",
      "원문 : love dark chocolate ghirardelli perfect bitter satisfying \n",
      "실제 요약 : am in love \n",
      "예측 요약 :  best chocolate ever\n",
      "\n",
      "\n",
      "원문 : oh mi gosh awesome make sure rinse well dry extra well paper towel boiling tried stir fried veggies bit left meat favorite salad dressing soy ginger orange citrus quick filling almost calorie free tasty meal \n",
      "실제 요약 : buy it \n",
      "예측 요약 :  great for\n",
      "\n",
      "\n",
      "원문 : terrific tasting muffins greatest scent baking apples cinnamon breakfast terrific \n",
      "실제 요약 : muffins \n",
      "예측 요약 :  great\n",
      "\n",
      "\n",
      "원문 : tried milk yet many reviews suggest amazing even without buy regret \n",
      "실제 요약 : great tea \n",
      "예측 요약 :  love this stuff\n",
      "\n",
      "\n",
      "원문 : cats love cat food cat food ever used seem digest well seldom throw cat food anyone cat knows mean used call cats throw since using cat food seldom happens eating cat food years think good test highly recommend \n",
      "실제 요약 : cats keep it down \n",
      "예측 요약 :  great food\n",
      "\n",
      "\n",
      "원문 : used get gerber ones almost price bit smaller handle seems like much better \n",
      "실제 요약 : great product \n",
      "예측 요약 :  good product\n",
      "\n",
      "\n",
      "원문 : excited get home thought made poorly plastic tried besides regular expresso noise sounds like going break returned next day got \n",
      "실제 요약 : dissapointed \n",
      "예측 요약 :  not so good\n",
      "\n",
      "\n",
      "원문 : toss soups hydrate bit hot water add salads salad dressings add nice somewhat meaty flavor almost dish \n",
      "실제 요약 : nice to have in the pantry \n",
      "예측 요약 :  great seasoning\n",
      "\n",
      "\n",
      "원문 : feel advertising product picture looks like two boxes coffee received package box price ok really bargain \n",
      "실제 요약 : advertising \n",
      "예측 요약 :  not as advertised\n",
      "\n",
      "\n",
      "원문 : chihuahua take try eat big little mouth treats hard break pieces interested enough chew bigger pieces though say dog never dog biscuit type could part reason enjoy good quality product made great ingredients every dog going like obviously \n",
      "실제 요약 : too big for small \n",
      "예측 요약 :  my dogs love them\n",
      "\n",
      "\n",
      "원문 : nasty hamburger helper gone bland noodles ok sauce mix throw away much fake cheese flavor dump lot veggies spices overpower gross cheese haha \n",
      "실제 요약 : sick \n",
      "예측 요약 :  not bad\n",
      "\n",
      "\n",
      "원문 : like hot awhile usually make iced along bags celestial seasonings spice chai like tea like added cinnamon flavor \n",
      "실제 요약 : good tea prefer it iced \n",
      "예측 요약 :  great flavor\n",
      "\n",
      "\n",
      "원문 : recently ordered mushrooms pleasantly surprised size quality quantity price good way amazon shipped packed pack every single arrived dented smashed use immediately instead storing later trouble even opening cans dented opener would work shipping problem would great better cheaper ones available locally \n",
      "실제 요약 : good mushrooms bad shipping \n",
      "예측 요약 :  great product\n",
      "\n",
      "\n",
      "원문 : tend get upset stomach nausea never fails make feel better love sell stores area anymore fine buying case \n",
      "실제 요약 : works great \n",
      "예측 요약 :  good stuff\n",
      "\n",
      "\n",
      "원문 : fresh fresh fresh saffron release good color aroma long good quantity price also reasonable would recommend product \n",
      "실제 요약 : spanish saffron \n",
      "예측 요약 :  great product\n",
      "\n",
      "\n",
      "원문 : love dry soda juniper berry favorite flavor lavender never mind love em less sweet much better stuff actually quenches thirst almost well regular water tastes lot better wish regular soda companies would get clue dry want less calories add less sugar fill nasty chemicals \n",
      "실제 요약 : love it \n",
      "예측 요약 :  great taste\n",
      "\n",
      "\n",
      "원문 : decent clean simple cup morning decaf find pre pod helps extract little extra flavor \n",
      "실제 요약 : decent \n",
      "예측 요약 :  great coffee\n",
      "\n",
      "\n",
      "원문 : tastes like iced tea buy starbucks like better make filtered water great tea \n",
      "실제 요약 : love it \n",
      "예측 요약 :  great tea\n",
      "\n",
      "\n",
      "원문 : great skin muscles blend skim milk sometimes flavoring although great milk keep product eating helps scalp hair fall like started drinking vegetable protein \n",
      "실제 요약 : great product \n",
      "예측 요약 :  great product\n",
      "\n",
      "\n",
      "원문 : bad good deal big bag food especially kind dog food bad salmon one costs alot \n",
      "실제 요약 : nice \n",
      "예측 요약 :  my dog loves it\n",
      "\n",
      "\n",
      "원문 : image easy anyone use man perfect cake loved \n",
      "실제 요약 : easy \n",
      "예측 요약 :  love this product\n",
      "\n",
      "\n",
      "원문 : husband first served oil restaurant del chicago splendid oil peppery smooth write name oil moment got home dinner went online purchased oil gourmet line shipped promptly without hassle winner around \n",
      "실제 요약 : oil \n",
      "예측 요약 :  great product\n",
      "\n",
      "\n",
      "원문 : best kind dog food ever used kind dogs eat without allergies itchy skin coat supreme reccommended anyone give pet longer healthier life \n",
      "실제 요약 : great \n",
      "예측 요약 :  my dog loves this\n",
      "\n",
      "\n",
      "원문 : quickly became favorite coffee make every morning strong enough make larger setting without losing coffee goodness make smaller setting sometimes want even stronger never bitter taste negative thing say cannot use store pods keep ziplock type bag keeps quite fresh \n",
      "실제 요약 : my go to coffe \n",
      "예측 요약 :  great coffee\n",
      "\n",
      "\n",
      "원문 : delicious easy make good cold hot like mornings work early helps wake worth money would recommend \n",
      "실제 요약 : very good \n",
      "예측 요약 :  great energy drink\n",
      "\n",
      "\n",
      "원문 : good product reducing one star fact cooked cup size quantity seemed little less brand used also felt like refined little bit typical bulgur \n",
      "실제 요약 : good product reasonable price \n",
      "예측 요약 :  not for me\n",
      "\n",
      "\n",
      "원문 : product although pleasant taste true waste money price high small product would wise bother product get fruit basket cookies mrs fields \n",
      "실제 요약 : ok product \n",
      "예측 요약 :  great price\n",
      "\n",
      "\n",
      "원문 : purchased product dog daughters dog gave extreme diarrhea poor pups could even make house embarrassed dogs dogs suffered product exact amount weight dog love greenies shocked reaction \n",
      "실제 요약 : do not buy this product \n"
     ]
    },
    {
     "name": "stdout",
     "output_type": "stream",
     "text": [
      "예측 요약 :  not for chewers\n",
      "\n",
      "\n",
      "원문 : called granola something would eat breakfast chunks chocolate think chocolate think breakfast never however snack treat enjoy meals really quite delicious even put milk grabbed chunks straight bag dessert main meal day kind pricey almost oz bag would definitely treat something eat every day \n",
      "실제 요약 : more than granola call it treat \n",
      "예측 요약 :  great snack\n",
      "\n",
      "\n",
      "원문 : cannot figure anyone would want drink stuff less size regular soda got sugar calories taste good also bit expensive getting need say think \n",
      "실제 요약 : too sweet and too small switch think not \n",
      "예측 요약 :  tastes like the real thing\n",
      "\n",
      "\n",
      "원문 : glad found something healthy yummy puppy gobbles whenever give \n",
      "실제 요약 : puppy loves em \n",
      "예측 요약 :  great\n",
      "\n",
      "\n",
      "원문 : sweet little persian looks like dying night treats item recalled \n",
      "실제 요약 : this stuff is cat \n",
      "예측 요약 :  not what expected\n",
      "\n",
      "\n",
      "원문 : balanced smooth light coffee great first cup day \n",
      "실제 요약 : smooth and light breakfast coffee \n",
      "예측 요약 :  great coffee\n",
      "\n",
      "\n",
      "원문 : taste much better brands good shelf life subscribe save lets sure always right amount hand best price \n",
      "실제 요약 : great taste \n",
      "예측 요약 :  great\n",
      "\n",
      "\n",
      "원문 : hooked drink since lived dc used get giant boxes shipped told local gas stations discontinued united states anyone know true amazon last place left find anywhere could would buy em \n",
      "실제 요약 : best energy drink ever \n",
      "예측 요약 :  great flavor\n",
      "\n",
      "\n",
      "원문 : dogs dog love chews keeps busy cleans teeth \n",
      "실제 요약 : dog pleaser \n",
      "예측 요약 :  dog loves these\n",
      "\n",
      "\n",
      "원문 : love mix favorite tried reason deal get boxes walmart less dollars heard places seriously pricing states \n",
      "실제 요약 : love this \n",
      "예측 요약 :  great price\n",
      "\n",
      "\n"
     ]
    }
   ],
   "source": [
    "#모델 테스트\n",
    "# 원문의 정수 시퀀스를 텍스트 시퀀스로 변환\n",
    "def seq2text(input_seq):\n",
    "    temp=''\n",
    "    for i in input_seq:\n",
    "        if (i!=0):\n",
    "            temp = temp + src_index_to_word[i]+' '\n",
    "    return temp\n",
    "\n",
    "# 요약문의 정수 시퀀스를 텍스트 시퀀스로 변환\n",
    "def seq2summary(input_seq):\n",
    "    temp=''\n",
    "    for i in input_seq:\n",
    "        if ((i!=0 and i!=tar_word_to_index['sostoken']) and i!=tar_word_to_index['eostoken']):\n",
    "            temp = temp + tar_index_to_word[i] + ' '\n",
    "    return temp\n",
    "\n",
    "for i in range(50, 100):\n",
    "    print(\"원문 :\", seq2text(encoder_input_test[i]))\n",
    "    print(\"실제 요약 :\", seq2summary(decoder_input_test[i]))\n",
    "    print(\"예측 요약 :\", decode_sequence(encoder_input_test[i].reshape(1, text_max_len)))\n",
    "    print(\"\\n\")"
   ]
  },
  {
   "cell_type": "code",
   "execution_count": 40,
   "id": "26a528f8",
   "metadata": {
    "scrolled": false
   },
   "outputs": [
    {
     "name": "stdout",
     "output_type": "stream",
     "text": [
      "The screen is filled with green, cascading code which gives way to the title, The Matrix.\r\n",
      "\r\n",
      "A phone rings and text appears on the screen: \"Call trans opt: received. 2-19-98 13:24:18 REC: Log>\" As a conversation takes place between Trinity (Carrie-Anne Moss) and Cypher (Joe Pantoliano), two free humans, a table of random green numbers are being scanned and individual numbers selected, creating a series of digits not unlike an ordinary phone number, as if a code is being deciphered or a call is being traced.\r\n",
      "\r\n",
      "Trinity discusses some unknown person. Cypher taunts Trinity, suggesting she enjoys watching him. Trinity counters that \"Morpheus (Laurence Fishburne) says he may be 'the One',\" just as the sound of a number being selected alerts Trinity that someone may be tracing their call. She ends the call.\r\n",
      "\r\n",
      "Armed policemen move down a darkened, decrepit hallway in the Heart O' the City Hotel, their flashlight beam bouncing just ahead of them. They come to room 303, kick down the door and find a woman dressed in black, facing away from them. It's Trinity. She brings her hands up from the laptop she's working on at their command.\r\n",
      "\r\n",
      "Outside the hotel a car drives up and three agents appear in neatly pressed black suits. They are Agent Smith (Hugo Weaving), Agent Brown (Paul Goddard), and Agent Jones (Robert Taylor). Agent Smith and the presiding police lieutenant argue. Agent Smith admonishes the policeman that they were given specific orders to contact the agents first, for their\n"
     ]
    }
   ],
   "source": [
    "#추출적 요약\n",
    "import requests\n",
    "from summa.summarizer import summarize\n",
    "\n",
    "#매트릭스 시놉시스 다운\n",
    "text = requests.get('http://rare-technologies.com/the_matrix_synopsis.txt').text\n",
    "\n",
    "print(text[:1500])"
   ]
  },
  {
   "cell_type": "code",
   "execution_count": 41,
   "id": "cfc8190a",
   "metadata": {},
   "outputs": [
    {
     "name": "stdout",
     "output_type": "stream",
     "text": [
      "Summary:\n",
      "Morpheus, Trinity, Neo, Apoc, Switch, Mouse and Cypher are jacked into the Matrix.\n",
      "Trinity brings the helicopter down to the floor that Morpheus is on and Neo opens fire on the three Agents.\n"
     ]
    }
   ],
   "source": [
    "#summarize 사용하기 \n",
    "print('Summary:')\n",
    "print(summarize(text, ratio=0.005)) # text : 요약할 텍스트 / ratio : 원본에서 요약문으로 선택되는 문장 비율"
   ]
  },
  {
   "cell_type": "code",
   "execution_count": 42,
   "id": "e6358af7",
   "metadata": {},
   "outputs": [
    {
     "name": "stdout",
     "output_type": "stream",
     "text": [
      "Summary:\n",
      "['Morpheus, Trinity, Neo, Apoc, Switch, Mouse and Cypher are jacked into the Matrix.', 'Trinity brings the helicopter down to the floor that Morpheus is on and Neo opens fire on the three Agents.']\n"
     ]
    }
   ],
   "source": [
    "print('Summary:')\n",
    "print(summarize(text, ratio=0.005, split=True)) #split : True = 문장 list , False = 조인된 문자열 반환"
   ]
  },
  {
   "cell_type": "code",
   "execution_count": 43,
   "id": "79e97760",
   "metadata": {},
   "outputs": [
    {
     "name": "stdout",
     "output_type": "stream",
     "text": [
      "Summary:\n",
      "Trinity takes Neo to Morpheus.\n",
      "Morpheus, Trinity, Neo, Apoc, Switch, Mouse and Cypher are jacked into the Matrix.\n",
      "Trinity brings the helicopter down to the floor that Morpheus is on and Neo opens fire on the three Agents.\n"
     ]
    }
   ],
   "source": [
    "print('Summary:')\n",
    "print(summarize(text, words=50)) # words : 출력에 포함할 단어 수 (tip) ratio와 함께 사용될 경우 ratio를 무시하고 words가 우선된다."
   ]
  },
  {
   "cell_type": "code",
   "execution_count": null,
   "id": "7d61fdea",
   "metadata": {},
   "outputs": [],
   "source": []
  }
 ],
 "metadata": {
  "kernelspec": {
   "display_name": "Python 3 (ipykernel)",
   "language": "python",
   "name": "python3"
  },
  "language_info": {
   "codemirror_mode": {
    "name": "ipython",
    "version": 3
   },
   "file_extension": ".py",
   "mimetype": "text/x-python",
   "name": "python",
   "nbconvert_exporter": "python",
   "pygments_lexer": "ipython3",
   "version": "3.9.7"
  }
 },
 "nbformat": 4,
 "nbformat_minor": 5
}
