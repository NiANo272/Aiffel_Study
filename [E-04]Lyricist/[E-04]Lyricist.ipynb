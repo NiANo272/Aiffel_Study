{
 "cells": [
  {
   "cell_type": "code",
   "execution_count": 2,
   "id": "d6bb0e26",
   "metadata": {},
   "outputs": [
    {
     "name": "stdout",
     "output_type": "stream",
     "text": [
      "Source 문장 :  <Start>나는 밥을 먹었다.\n",
      "Target 문장 :  나는 밥을 먹었다.end\n"
     ]
    }
   ],
   "source": [
    "#순환 신경망의 간단한 예시\n",
    "sentence = \"나는 밥을 먹었다.\"\n",
    "\n",
    "source_sentence = \"<Start>\" + sentence\n",
    "target_sentence = sentence + \"end\"\n",
    "\n",
    "print(\"Source 문장 : \", source_sentence)\n",
    "print(\"Target 문장 : \", target_sentence)"
   ]
  },
  {
   "cell_type": "code",
   "execution_count": 3,
   "id": "366c66a3",
   "metadata": {},
   "outputs": [
    {
     "name": "stdout",
     "output_type": "stream",
     "text": [
      "['First Citizen:', 'Before we proceed any further, hear me speak.', '', 'All:', 'Speak, speak.', '', 'First Citizen:', 'You are all resolved rather to die than to famish?', '']\n"
     ]
    }
   ],
   "source": [
    "#데이터 실습\n",
    "import os, re\n",
    "import numpy as np\n",
    "import tensorflow as tf\n",
    "\n",
    "file_path = os.getenv('HOME') + '/aiffel/lyricist/data/shakespeare.txt'\n",
    "with open(file_path, \"r\") as f: #파일을 읽기모드로 open\n",
    "    raw_corpus = f.read().splitlines() #줄 단위로 끊어서 list형태로 읽어옴\n",
    "    \n",
    "print(raw_corpus[:9]) #출력"
   ]
  },
  {
   "cell_type": "code",
   "execution_count": 4,
   "id": "a0b3bc1f",
   "metadata": {},
   "outputs": [
    {
     "name": "stdout",
     "output_type": "stream",
     "text": [
      "Before we proceed any further, hear me speak.\n",
      "Speak, speak.\n",
      "You are all resolved rather to die than to famish?\n"
     ]
    }
   ],
   "source": [
    "#원치않는 문장(화자, 공백)을 제거\n",
    "for idx, sentence in enumerate(raw_corpus):\n",
    "    if len(sentence) == 0: continue #문장의 길이가 0이면 pass\n",
    "    if sentence[-1] == \":\": continue # 문장의 끝이 \":\"이면 pass  \n",
    "    if idx > 9: break #idx 가 n개가 되면 중단\n",
    "    \n",
    "    print(sentence)\n",
    "\n",
    "#1차 오류\n",
    "# Resolved. resolved 가 출력됨\n",
    "# 복사문과의 차이점을 찾자\n",
    "#print문이 for문 밖에 있어서 제대로 출력되지 않았다."
   ]
  },
  {
   "cell_type": "code",
   "execution_count": 5,
   "id": "c438c889",
   "metadata": {},
   "outputs": [
    {
     "name": "stdout",
     "output_type": "stream",
     "text": [
      "<start> this is sample sentence . <end>\n"
     ]
    }
   ],
   "source": [
    "#데이터 정제\n",
    "def preprocess_sentence(sentence): #문장에서 단어를 추출하기 위한 전처리 과정\n",
    "    sentence = sentence.lower().strip() #모든 문자를 소문자화 하고 공백을 제거\n",
    "    sentence = re.sub(r\"([?.!,¿])\", r\" \\1 \", sentence) #특수문자 양쪽에 공백을 삽입\n",
    "    sentence = re.sub(r'[\" \"]+', \" \", sentence) #여러개의 공백은 하나의 공백으로 변경\n",
    "    sentence = re.sub(r'[^a-zA-Z?.!,¿]+', \" \", sentence) #대소문자, 특수문자가 아닌 문자는 하나의 공백으로 변경\n",
    "    sentence = sentence.strip() #공백을 다시 제거\n",
    "    sentence = '<start> ' + sentence + ' <end>' #문장의 양끝에 시작점과 끝점 표시\n",
    "    return sentence\n",
    "\n",
    "print(preprocess_sentence(\"This @_is ;;;sample        sentence.\")) #예시1"
   ]
  },
  {
   "cell_type": "code",
   "execution_count": 6,
   "id": "6998f057",
   "metadata": {},
   "outputs": [
    {
     "name": "stdout",
     "output_type": "stream",
     "text": [
      "<start> before we proceed any further , hear me speak . <end>\n",
      "<start> speak , speak . <end>\n",
      "<start> you are all resolved rather to die than to famish ? <end>\n",
      "<start> resolved . resolved . <end>\n",
      "<start> first , you know caius marcius is chief enemy to the people . <end>\n",
      "<start> we know t , we know t . <end>\n",
      "<start> let us kill him , and we ll have corn at our own price . <end>\n",
      "<start> is t a verdict ? <end>\n",
      "<start> no more talking on t let it be done away , away ! <end>\n",
      "<start> one word , good citizens . <end>\n"
     ]
    }
   ],
   "source": [
    "#데이터 구축\n",
    "corpus = [] #정제된 문장을 모으는 리스트\n",
    "\n",
    "for sentence in raw_corpus:\n",
    "    #위에서 적용했던 공백, 화자 제거\n",
    "    if len(sentence) == 0: continue\n",
    "    if sentence[-1] == \":\": continue\n",
    "        \n",
    "    #문장 전처리\n",
    "    preprocessed_sentence = preprocess_sentence(sentence)\n",
    "    corpus.append(preprocessed_sentence)\n",
    "    \n",
    "\n",
    "#출력하여 결과 확인\n",
    "for i in range(10):\n",
    "    print(corpus[i])"
   ]
  },
  {
   "cell_type": "code",
   "execution_count": 7,
   "id": "182ed45b",
   "metadata": {},
   "outputs": [
    {
     "name": "stdout",
     "output_type": "stream",
     "text": [
      "[[   2  143   40 ...    0    0    0]\n",
      " [   2  110    4 ...    0    0    0]\n",
      " [   2   11   50 ...    0    0    0]\n",
      " ...\n",
      " [   2  149 4553 ...    0    0    0]\n",
      " [   2   34   71 ...    0    0    0]\n",
      " [   2  945   34 ...    0    0    0]] <keras_preprocessing.text.Tokenizer object at 0x7fa79c4cfa90>\n"
     ]
    }
   ],
   "source": [
    "#단어를 토큰화하여 사전으로 만들고 데이터를 숫자로 변화하는 벡터화 진행\n",
    "\n",
    "#데이터 토큰화 함수\n",
    "def tokenize(corpus):\n",
    "    tokenizer = tf.keras.preprocessing.text.Tokenizer(\n",
    "    num_words = 7000, #7000개의 단어를 토큰화\n",
    "    filters = ' ', #위에서 문장을 정제 했기 때문에 필터가 필요없음\n",
    "    oov_token = \"<unk>\"\n",
    "    )\n",
    "\n",
    "    tokenizer.fit_on_texts(corpus) #내부의 단어장을 완성\n",
    "    tensor = tokenizer.texts_to_sequences(corpus) #corpus를 tensor로 변환\n",
    "    tensor = tf.keras.preprocessing.sequence.pad_sequences(tensor, padding = 'post')\n",
    "    \n",
    "    print(tensor, tokenizer)\n",
    "    return tensor, tokenizer\n",
    "\n",
    "tensor, tokenizer = tokenize(corpus)"
   ]
  },
  {
   "cell_type": "code",
   "execution_count": 8,
   "id": "2f2977b4",
   "metadata": {},
   "outputs": [
    {
     "name": "stdout",
     "output_type": "stream",
     "text": [
      "1 : <unk>\n",
      "2 : <start>\n",
      "3 : <end>\n",
      "4 : ,\n",
      "5 : .\n",
      "6 : the\n",
      "7 : and\n",
      "8 : i\n",
      "9 : to\n",
      "10 : of\n"
     ]
    }
   ],
   "source": [
    "for idx in tokenizer.index_word:\n",
    "    print(idx, \":\", tokenizer.index_word[idx])\n",
    "\n",
    "    if idx >= 10: break\n",
    "#2행이 start이라서 모든 텐서의 시작이 2로 시작되는 사실을 알 수 있다!"
   ]
  },
  {
   "cell_type": "code",
   "execution_count": 9,
   "id": "e0c3ad78",
   "metadata": {},
   "outputs": [
    {
     "name": "stdout",
     "output_type": "stream",
     "text": [
      "[  2 143  40 933 140 591   4 124  24 110   5   3   0   0   0   0   0   0\n",
      "   0   0]\n",
      "[143  40 933 140 591   4 124  24 110   5   3   0   0   0   0   0   0   0\n",
      "   0   0]\n"
     ]
    }
   ],
   "source": [
    "src_input = tensor[:, :-1]\n",
    "tgt_input = tensor[:, 1:] #tensor에서 start를 제거\n",
    "\n",
    "print(src_input[0])\n",
    "print(tgt_input[0])\n",
    "#입력 시퀀스 길이보다 문장이 짧으면 '0'<pad>가 된다."
   ]
  },
  {
   "cell_type": "code",
   "execution_count": 10,
   "id": "eff98dc0",
   "metadata": {},
   "outputs": [
    {
     "data": {
      "text/plain": [
       "<BatchDataset shapes: ((256, 20), (256, 20)), types: (tf.int32, tf.int32)>"
      ]
     },
     "execution_count": 10,
     "metadata": {},
     "output_type": "execute_result"
    }
   ],
   "source": [
    "#모델 생성\n",
    "BUFFER_SIZE = len(src_input) #입력값의 길이 크기의 버퍼\n",
    "BATCH_SIZE = 256\n",
    "steps_per_epoch = len(src_input) // BATCH_SIZE\n",
    "\n",
    "VOCAB_SIZE = tokenizer.num_words + 1 #생성한 사전의 단어 7000개와 <pad>포한한 7000+1개의 크기\n",
    "\n",
    "#데이터 소스로부터 데이터셋 생성\n",
    "dataset = tf.data.Dataset.from_tensor_slices((src_input, tgt_input)) \n",
    "dataset = dataset.shuffle(BUFFER_SIZE)\n",
    "dataset = dataset.batch(BATCH_SIZE, drop_remainder=True)\n",
    "dataset"
   ]
  },
  {
   "cell_type": "code",
   "execution_count": 11,
   "id": "627033d9",
   "metadata": {},
   "outputs": [
    {
     "data": {
      "text/plain": [
       "<tf.Tensor: shape=(256, 20, 7001), dtype=float32, numpy=\n",
       "array([[[ 2.76763720e-04,  1.89827872e-04, -1.12452894e-04, ...,\n",
       "          1.22651982e-05,  9.38863013e-05,  2.42295748e-04],\n",
       "        [ 5.24333969e-04,  6.39118953e-04, -3.65780550e-04, ...,\n",
       "          3.24963912e-04,  3.42263957e-04,  2.86425347e-04],\n",
       "        [ 5.68508753e-04,  9.80879180e-04, -6.25625602e-04, ...,\n",
       "          3.33377451e-04,  3.95896466e-04,  1.96551293e-04],\n",
       "        ...,\n",
       "        [ 5.42455760e-04,  1.24653394e-03,  2.75897910e-03, ...,\n",
       "          2.17727458e-04, -3.21157416e-03,  1.37832935e-03],\n",
       "        [ 6.60510210e-04,  1.39664009e-03,  3.13341361e-03, ...,\n",
       "          2.60383560e-04, -3.29506840e-03,  1.65270700e-03],\n",
       "        [ 7.62404583e-04,  1.54103537e-03,  3.48428357e-03, ...,\n",
       "          3.11897573e-04, -3.34579009e-03,  1.91131548e-03]],\n",
       "\n",
       "       [[ 2.76763720e-04,  1.89827872e-04, -1.12452894e-04, ...,\n",
       "          1.22651982e-05,  9.38863013e-05,  2.42295748e-04],\n",
       "        [ 3.76568350e-04,  3.60022270e-04, -2.05836564e-04, ...,\n",
       "         -1.44774240e-04, -1.10345893e-04,  2.82611029e-04],\n",
       "        [ 1.76263202e-04,  5.14185813e-04, -5.25198178e-04, ...,\n",
       "         -3.65057233e-04, -1.65240344e-04,  3.79692647e-04],\n",
       "        ...,\n",
       "        [ 6.38768717e-04,  1.77079521e-03,  1.87127152e-03, ...,\n",
       "         -1.35266804e-04, -2.45056301e-03,  7.28830695e-04],\n",
       "        [ 7.49656989e-04,  1.84852467e-03,  2.34090490e-03, ...,\n",
       "         -1.24983024e-04, -2.66623846e-03,  9.72929178e-04],\n",
       "        [ 8.45927803e-04,  1.92598451e-03,  2.77468562e-03, ...,\n",
       "         -9.89579785e-05, -2.83666281e-03,  1.23000378e-03]],\n",
       "\n",
       "       [[ 2.76763720e-04,  1.89827872e-04, -1.12452894e-04, ...,\n",
       "          1.22651982e-05,  9.38863013e-05,  2.42295748e-04],\n",
       "        [ 6.79134740e-04,  3.21141233e-05, -3.47580703e-04, ...,\n",
       "          3.82201892e-04,  5.17539040e-04,  4.41853306e-04],\n",
       "        [ 4.86640405e-04, -1.79706112e-04, -5.81474160e-04, ...,\n",
       "          5.40249923e-04,  6.25436718e-04,  5.75782964e-04],\n",
       "        ...,\n",
       "        [ 1.29014603e-03,  1.27640099e-03,  3.09814862e-03, ...,\n",
       "          8.75385304e-05, -2.72226590e-03,  1.81776274e-03],\n",
       "        [ 1.38079294e-03,  1.42834312e-03,  3.41264112e-03, ...,\n",
       "          1.20349294e-04, -2.85683176e-03,  2.01717648e-03],\n",
       "        [ 1.44223298e-03,  1.57215877e-03,  3.71091906e-03, ...,\n",
       "          1.65355101e-04, -2.95825279e-03,  2.21518264e-03]],\n",
       "\n",
       "       ...,\n",
       "\n",
       "       [[ 2.76763720e-04,  1.89827872e-04, -1.12452894e-04, ...,\n",
       "          1.22651982e-05,  9.38863013e-05,  2.42295748e-04],\n",
       "        [ 2.39428759e-04,  4.32347937e-04, -4.29344909e-05, ...,\n",
       "         -4.93264952e-06,  1.65780701e-04,  8.39475892e-04],\n",
       "        [-1.35651688e-04,  7.68171041e-04,  1.00759113e-04, ...,\n",
       "         -1.37995894e-05,  3.30989016e-04,  1.12156780e-03],\n",
       "        ...,\n",
       "        [ 9.42029117e-04,  1.27711287e-03,  2.47150403e-03, ...,\n",
       "          5.17431647e-04, -1.54167786e-03,  1.15237199e-03],\n",
       "        [ 1.01371773e-03,  1.38391531e-03,  2.84387171e-03, ...,\n",
       "          4.88145219e-04, -1.86263374e-03,  1.47788739e-03],\n",
       "        [ 1.06808566e-03,  1.49553583e-03,  3.19431606e-03, ...,\n",
       "          4.69593157e-04, -2.13291682e-03,  1.77576975e-03]],\n",
       "\n",
       "       [[ 2.76763720e-04,  1.89827872e-04, -1.12452894e-04, ...,\n",
       "          1.22651982e-05,  9.38863013e-05,  2.42295748e-04],\n",
       "        [ 3.76568350e-04,  3.60022270e-04, -2.05836564e-04, ...,\n",
       "         -1.44774240e-04, -1.10345893e-04,  2.82611029e-04],\n",
       "        [ 2.49025674e-04,  5.56668907e-04, -4.15648014e-04, ...,\n",
       "          1.04909697e-04, -1.48954874e-04,  9.11144307e-05],\n",
       "        ...,\n",
       "        [ 9.44285071e-04,  1.32865924e-03,  2.70391838e-03, ...,\n",
       "         -9.05464694e-05, -2.80945981e-03,  9.56303964e-04],\n",
       "        [ 1.02760538e-03,  1.46715657e-03,  3.08949896e-03, ...,\n",
       "         -7.17124931e-06, -2.95996410e-03,  1.29626913e-03],\n",
       "        [ 1.09476573e-03,  1.59814477e-03,  3.45006259e-03, ...,\n",
       "          8.02929208e-05, -3.07048764e-03,  1.61197525e-03]],\n",
       "\n",
       "       [[ 2.76763720e-04,  1.89827872e-04, -1.12452894e-04, ...,\n",
       "          1.22651982e-05,  9.38863013e-05,  2.42295748e-04],\n",
       "        [ 3.43312218e-04,  6.44017768e-04, -4.25221988e-05, ...,\n",
       "         -8.38855121e-05,  3.83972161e-04,  7.11278582e-04],\n",
       "        [ 2.35073530e-04,  8.56588013e-04,  2.86706287e-04, ...,\n",
       "         -3.69827176e-04,  2.32965802e-04,  7.95978005e-04],\n",
       "        ...,\n",
       "        [ 7.93048879e-04,  4.41264478e-04,  2.02267128e-03, ...,\n",
       "          7.28931802e-04, -9.07269830e-04,  1.00983633e-03],\n",
       "        [ 1.02359860e-03,  5.42106456e-04,  2.26374785e-03, ...,\n",
       "          6.08149683e-04, -1.38673186e-03,  1.14970852e-03],\n",
       "        [ 1.20991864e-03,  6.68980996e-04,  2.52891728e-03, ...,\n",
       "          4.81662690e-04, -1.81056210e-03,  1.31556345e-03]]],\n",
       "      dtype=float32)>"
      ]
     },
     "execution_count": 11,
     "metadata": {},
     "output_type": "execute_result"
    }
   ],
   "source": [
    "#모델의 구조를 클래스화 한 것?\n",
    "class TextGenerator(tf.keras.Model):\n",
    "    def __init__(self, vocab_size, embedding_size, hidden_size):\n",
    "        super().__init__()\n",
    "        \n",
    "        self.embedding = tf.keras.layers.Embedding(vocab_size, embedding_size)\n",
    "        self.rnn_1 = tf.keras.layers.LSTM(hidden_size, return_sequences=True)\n",
    "        self.rnn_2 = tf.keras.layers.LSTM(hidden_size, return_sequences=True)\n",
    "        self.linear = tf.keras.layers.Dense(vocab_size)\n",
    "        \n",
    "    def call(self, x):\n",
    "        out = self.embedding(x)\n",
    "        out = self.rnn_1(out)\n",
    "        out = self.rnn_2(out)\n",
    "        out = self.linear(out)\n",
    "        \n",
    "        return out\n",
    "    \n",
    "embedding_size = 256\n",
    "hidden_size = 1024\n",
    "model = TextGenerator(tokenizer.num_words + 1, embedding_size , hidden_size)\n",
    "\n",
    "# 데이터셋에서 데이터 한 배치만 불러오는 방법입니다.\n",
    "for src_sample, tgt_sample in dataset.take(1): break\n",
    "\n",
    "# 한 배치만 불러온 데이터를 모델에 넣어봅니다\n",
    "model(src_sample)"
   ]
  },
  {
   "cell_type": "code",
   "execution_count": 12,
   "id": "c59f782d",
   "metadata": {},
   "outputs": [
    {
     "name": "stdout",
     "output_type": "stream",
     "text": [
      "Model: \"text_generator\"\n",
      "_________________________________________________________________\n",
      "Layer (type)                 Output Shape              Param #   \n",
      "=================================================================\n",
      "embedding (Embedding)        multiple                  1792256   \n",
      "_________________________________________________________________\n",
      "lstm (LSTM)                  multiple                  5246976   \n",
      "_________________________________________________________________\n",
      "lstm_1 (LSTM)                multiple                  8392704   \n",
      "_________________________________________________________________\n",
      "dense (Dense)                multiple                  7176025   \n",
      "=================================================================\n",
      "Total params: 22,607,961\n",
      "Trainable params: 22,607,961\n",
      "Non-trainable params: 0\n",
      "_________________________________________________________________\n"
     ]
    }
   ],
   "source": [
    "#모델 정보 확인\n",
    "model.summary()"
   ]
  },
  {
   "cell_type": "code",
   "execution_count": 13,
   "id": "f1b029fa",
   "metadata": {},
   "outputs": [
    {
     "name": "stdout",
     "output_type": "stream",
     "text": [
      "Epoch 1/30\n",
      "93/93 [==============================] - 18s 172ms/step - loss: 3.5352\n",
      "Epoch 2/30\n",
      "93/93 [==============================] - 17s 178ms/step - loss: 2.8201\n",
      "Epoch 3/30\n",
      "93/93 [==============================] - 17s 183ms/step - loss: 2.7366\n",
      "Epoch 4/30\n",
      "93/93 [==============================] - 18s 190ms/step - loss: 2.6450\n",
      "Epoch 5/30\n",
      "93/93 [==============================] - 18s 198ms/step - loss: 2.5742\n",
      "Epoch 6/30\n",
      "93/93 [==============================] - 18s 197ms/step - loss: 2.5230\n",
      "Epoch 7/30\n",
      "93/93 [==============================] - 18s 192ms/step - loss: 2.4798\n",
      "Epoch 8/30\n",
      "93/93 [==============================] - 18s 192ms/step - loss: 2.4333\n",
      "Epoch 9/30\n",
      "93/93 [==============================] - 18s 194ms/step - loss: 2.3910\n",
      "Epoch 10/30\n",
      "93/93 [==============================] - 18s 196ms/step - loss: 2.3501\n",
      "Epoch 11/30\n",
      "93/93 [==============================] - 18s 195ms/step - loss: 2.3082\n",
      "Epoch 12/30\n",
      "93/93 [==============================] - 18s 194ms/step - loss: 2.2698\n",
      "Epoch 13/30\n",
      "93/93 [==============================] - 18s 194ms/step - loss: 2.2320\n",
      "Epoch 14/30\n",
      "93/93 [==============================] - 18s 195ms/step - loss: 2.1954\n",
      "Epoch 15/30\n",
      "93/93 [==============================] - 18s 195ms/step - loss: 2.1579\n",
      "Epoch 16/30\n",
      "93/93 [==============================] - 18s 195ms/step - loss: 2.1222\n",
      "Epoch 17/30\n",
      "93/93 [==============================] - 18s 195ms/step - loss: 2.0860\n",
      "Epoch 18/30\n",
      "93/93 [==============================] - 18s 195ms/step - loss: 2.0519\n",
      "Epoch 19/30\n",
      "93/93 [==============================] - 18s 195ms/step - loss: 2.0162\n",
      "Epoch 20/30\n",
      "93/93 [==============================] - 18s 195ms/step - loss: 1.9810\n",
      "Epoch 21/30\n",
      "93/93 [==============================] - 18s 195ms/step - loss: 1.9444\n",
      "Epoch 22/30\n",
      "93/93 [==============================] - 18s 195ms/step - loss: 1.9097\n",
      "Epoch 23/30\n",
      "93/93 [==============================] - 18s 195ms/step - loss: 1.8719\n",
      "Epoch 24/30\n",
      "93/93 [==============================] - 18s 195ms/step - loss: 1.8359\n",
      "Epoch 25/30\n",
      "93/93 [==============================] - 18s 195ms/step - loss: 1.8002\n",
      "Epoch 26/30\n",
      "93/93 [==============================] - 18s 195ms/step - loss: 1.7643\n",
      "Epoch 27/30\n",
      "93/93 [==============================] - 18s 195ms/step - loss: 1.7297\n",
      "Epoch 28/30\n",
      "93/93 [==============================] - 18s 195ms/step - loss: 1.6964\n",
      "Epoch 29/30\n",
      "93/93 [==============================] - 18s 195ms/step - loss: 1.6599\n",
      "Epoch 30/30\n",
      "93/93 [==============================] - 18s 195ms/step - loss: 1.6245\n"
     ]
    },
    {
     "data": {
      "text/plain": [
       "<keras.callbacks.History at 0x7fa7009808b0>"
      ]
     },
     "execution_count": 13,
     "metadata": {},
     "output_type": "execute_result"
    }
   ],
   "source": [
    "#모델 학습 시작 (오래 걸리니 한번만 하자)\n",
    "optimizer = tf.keras.optimizers.Adam()\n",
    "loss = tf.keras.losses.SparseCategoricalCrossentropy(\n",
    "    from_logits=True,\n",
    "    reduction='none'\n",
    ")\n",
    "\n",
    "model.compile(loss=loss, optimizer=optimizer)\n",
    "model.fit(dataset, epochs=30)"
   ]
  },
  {
   "cell_type": "code",
   "execution_count": 14,
   "id": "a82e1207",
   "metadata": {},
   "outputs": [
    {
     "data": {
      "text/plain": [
       "'<start> he is a <unk> , and i am a thing , <end> '"
      ]
     },
     "execution_count": 14,
     "metadata": {},
     "output_type": "execute_result"
    }
   ],
   "source": [
    "#모델 평가\n",
    "def generate_text(model, tokenizer, init_sentence=\"<start>\", max_len=20):\n",
    "    # 테스트를 위해서 입력받은 init_sentence도 텐서로 변환합니다\n",
    "    test_input = tokenizer.texts_to_sequences([init_sentence])\n",
    "    test_tensor = tf.convert_to_tensor(test_input, dtype=tf.int64)\n",
    "    end_token = tokenizer.word_index[\"<end>\"]\n",
    "\n",
    "    # 단어 하나씩 예측해 문장을 만듭니다\n",
    "    #    1. 입력받은 문장의 텐서를 입력합니다\n",
    "    #    2. 예측된 값 중 가장 높은 확률인 word index를 뽑아냅니다\n",
    "    #    3. 2에서 예측된 word index를 문장 뒤에 붙입니다\n",
    "    #    4. 모델이 <end>를 예측했거나, max_len에 도달했다면 문장 생성을 마칩니다\n",
    "    while True:\n",
    "        # 1\n",
    "        predict = model(test_tensor) \n",
    "        # 2\n",
    "        predict_word = tf.argmax(tf.nn.softmax(predict, axis=-1), axis=-1)[:, -1] \n",
    "        # 3 \n",
    "        test_tensor = tf.concat([test_tensor, tf.expand_dims(predict_word, axis=0)], axis=-1)\n",
    "        # 4\n",
    "        if predict_word.numpy()[0] == end_token: break\n",
    "        if test_tensor.shape[1] >= max_len: break\n",
    "\n",
    "    generated = \"\"\n",
    "    # tokenizer를 이용해 word index를 단어로 하나씩 변환합니다 \n",
    "    for word_index in test_tensor[0].numpy():\n",
    "        generated += tokenizer.index_word[word_index] + \" \"\n",
    "\n",
    "    return generated\n",
    "\n",
    "generate_text(model, tokenizer, init_sentence=\"<start> he\") #실제로 문장을 생성"
   ]
  },
  {
   "cell_type": "code",
   "execution_count": 15,
   "id": "81438109",
   "metadata": {},
   "outputs": [
    {
     "name": "stdout",
     "output_type": "stream",
     "text": [
      "데이터 크기: 187088\n",
      "Examples:\n",
      " [\"Now I've heard there was a secret chord\", 'That David played, and it pleased the Lord', \"But you don't really care for music, do you?\"]\n",
      "[[   2   50    5 ...    0    0    0]\n",
      " [   2   17 2639 ...    0    0    0]\n",
      " [   2   36    7 ...    0    0    0]\n",
      " ...\n",
      " [   2  130    5 ...    0    0    0]\n",
      " [   2   23   89 ...    0    0    0]\n",
      " [   2    7   34 ...    0    0    0]] <keras_preprocessing.text.Tokenizer object at 0x7fa7008017c0>\n"
     ]
    }
   ],
   "source": [
    "#데이터 읽어오기\n",
    "import glob\n",
    "import os\n",
    "\n",
    "txt_file_path = os.getenv('HOME')+'/aiffel/lyricist/data/lyrics/*' #파일의 경로\n",
    "txt_list = glob.glob(txt_file_path) #폴더안의 파일들을 리스트화\n",
    "\n",
    "raw_corpus = []\n",
    "\n",
    "for txt_file in txt_list:\n",
    "    with open(txt_file, \"r\") as f:\n",
    "        raw = f.read().splitlines() #각 줄을 읽음\n",
    "        raw_corpus.extend(raw) #읽은 줄을 리스트에 삽입\n",
    "\n",
    "print(\"데이터 크기:\", len(raw_corpus))\n",
    "print(\"Examples:\\n\", raw_corpus[:3])\n",
    "\n",
    "#데이터 정제\n",
    "corpus = [] #정제된 문장을 모으는 리스트\n",
    "\n",
    "for sentence in raw_corpus:\n",
    "    #위에서 적용했던 공백, 화자 제거\n",
    "    if len(sentence) == 0: continue\n",
    "    if sentence[-1] == \":\": continue\n",
    "        \n",
    "    #문장 전처리\n",
    "    preprocessed_sentence = preprocess_sentence(sentence)\n",
    "    corpus.append(preprocessed_sentence)\n",
    "    \n",
    "#데이터 토큰화 함수\n",
    "def tokenize(corpus):\n",
    "    tokenizer = tf.keras.preprocessing.text.Tokenizer(\n",
    "    num_words = 13000, #13000개의 단어를 토큰화\n",
    "    filters = ' ', #위에서 문장을 정제 했기 때문에 필터가 필요없음\n",
    "    oov_token = \"<unk>\"\n",
    "    )\n",
    "\n",
    "    tokenizer.fit_on_texts(corpus) #내부의 단어장을 완성\n",
    "    tensor = tokenizer.texts_to_sequences(corpus) #corpus를 tensor로 변환\n",
    "    tensor = tf.keras.preprocessing.sequence.pad_sequences(tensor, padding = 'post')\n",
    "    \n",
    "    print(tensor, tokenizer)\n",
    "    return tensor, tokenizer\n",
    "\n",
    "tensor, tokenizer = tokenize(corpus)\n",
    "\n",
    "src_input = tensor[:, :-1]\n",
    "tgt_input = tensor[:, 1:] #tensor에서 start를 제거"
   ]
  },
  {
   "cell_type": "code",
   "execution_count": 16,
   "id": "9d031686",
   "metadata": {},
   "outputs": [
    {
     "name": "stdout",
     "output_type": "stream",
     "text": [
      "Source Train: (140599, 346)\n",
      "Target Train: (140599, 346)\n"
     ]
    }
   ],
   "source": [
    "#데이터 분류\n",
    "from sklearn.model_selection import train_test_split\n",
    "enc_train, enc_val, dec_train, dec_val = train_test_split(src_input,\n",
    "                                                          tgt_input,\n",
    "                                                          test_size=0.2,\n",
    "                                                          shuffle=True,\n",
    "                                                          random_state=34)\n",
    "#분류된 데이터 확인\n",
    "print(\"Source Train:\", enc_train.shape)\n",
    "print(\"Target Train:\", dec_train.shape)"
   ]
  },
  {
   "cell_type": "code",
   "execution_count": 26,
   "id": "f94075ea",
   "metadata": {
    "scrolled": false
   },
   "outputs": [
    {
     "name": "stdout",
     "output_type": "stream",
     "text": [
      "Epoch 1/10\n",
      "93/93 [==============================] - 69s 715ms/step - loss: 3.3818\n",
      "Epoch 2/10\n",
      "93/93 [==============================] - 66s 710ms/step - loss: 2.7134\n",
      "Epoch 3/10\n",
      "93/93 [==============================] - 66s 710ms/step - loss: 2.5636\n",
      "Epoch 4/10\n",
      "93/93 [==============================] - 66s 713ms/step - loss: 2.4544\n",
      "Epoch 5/10\n",
      "93/93 [==============================] - 66s 712ms/step - loss: 2.3639\n",
      "Epoch 6/10\n",
      "93/93 [==============================] - 66s 713ms/step - loss: 2.2804\n",
      "Epoch 7/10\n",
      "93/93 [==============================] - 66s 712ms/step - loss: 2.1921\n",
      "Epoch 8/10\n",
      "93/93 [==============================] - 66s 712ms/step - loss: 2.0997\n",
      "Epoch 9/10\n",
      "93/93 [==============================] - 66s 711ms/step - loss: 1.9968\n",
      "Epoch 10/10\n",
      "93/93 [==============================] - 66s 711ms/step - loss: 1.8840\n"
     ]
    },
    {
     "data": {
      "text/plain": [
       "<keras.callbacks.History at 0x7fa673b38e50>"
      ]
     },
     "execution_count": 26,
     "metadata": {},
     "output_type": "execute_result"
    }
   ],
   "source": [
    "embedding_size = 512\n",
    "hidden_size = 2048\n",
    "model = TextGenerator(tokenizer.num_words + 1, embedding_size , hidden_size)\n",
    "\n",
    "# 데이터셋에서 데이터 한 배치만 불러오는 방법입니다.\n",
    "for src_sample, tgt_sample in dataset.take(1): break\n",
    "\n",
    "# 한 배치만 불러온 데이터를 모델에 넣어봅니다\n",
    "model(src_sample)\n",
    "\n",
    "#모델 학습 시작 (오래 걸리니 한번만 하자)\n",
    "optimizer = tf.keras.optimizers.Adam()\n",
    "loss = tf.keras.losses.SparseCategoricalCrossentropy(\n",
    "    from_logits=True, reduction='none'\n",
    ")\n",
    "\n",
    "model.compile(loss=loss, optimizer=optimizer)\n",
    "model.fit(dataset, epochs=10)"
   ]
  },
  {
   "cell_type": "code",
   "execution_count": 27,
   "id": "0de828e7",
   "metadata": {},
   "outputs": [
    {
     "data": {
      "text/plain": [
       "'<start> i love , and let of is wears i <end> '"
      ]
     },
     "execution_count": 27,
     "metadata": {},
     "output_type": "execute_result"
    }
   ],
   "source": [
    "generate_text(model, tokenizer, init_sentence=\"<start> i love\", max_len=20)\n",
    "#<unk>는 왜 뜨는 걸까?\n",
    "#일단 Unknow의 약자인듯 \n",
    "#정확히는 영어가 아닌 다른 문자가 나오면 나오는 것 같음\n",
    "\n",
    "\n",
    "#결과적으로 문법에는 맞지 않지만 문장이 완성됨 loss 1.8840"
   ]
  },
  {
   "cell_type": "code",
   "execution_count": null,
   "id": "2552a038",
   "metadata": {},
   "outputs": [],
   "source": []
  }
 ],
 "metadata": {
  "kernelspec": {
   "display_name": "Python 3 (ipykernel)",
   "language": "python",
   "name": "python3"
  },
  "language_info": {
   "codemirror_mode": {
    "name": "ipython",
    "version": 3
   },
   "file_extension": ".py",
   "mimetype": "text/x-python",
   "name": "python",
   "nbconvert_exporter": "python",
   "pygments_lexer": "ipython3",
   "version": "3.9.7"
  }
 },
 "nbformat": 4,
 "nbformat_minor": 5
}
