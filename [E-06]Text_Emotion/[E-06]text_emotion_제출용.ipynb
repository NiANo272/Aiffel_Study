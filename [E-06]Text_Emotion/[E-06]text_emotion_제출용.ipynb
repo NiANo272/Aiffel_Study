{
 "cells": [
  {
   "cell_type": "code",
   "execution_count": 1,
   "id": "83895097",
   "metadata": {},
   "outputs": [
    {
     "data": {
      "text/html": [
       "<div>\n",
       "<style scoped>\n",
       "    .dataframe tbody tr th:only-of-type {\n",
       "        vertical-align: middle;\n",
       "    }\n",
       "\n",
       "    .dataframe tbody tr th {\n",
       "        vertical-align: top;\n",
       "    }\n",
       "\n",
       "    .dataframe thead th {\n",
       "        text-align: right;\n",
       "    }\n",
       "</style>\n",
       "<table border=\"1\" class=\"dataframe\">\n",
       "  <thead>\n",
       "    <tr style=\"text-align: right;\">\n",
       "      <th></th>\n",
       "      <th>id</th>\n",
       "      <th>document</th>\n",
       "      <th>label</th>\n",
       "    </tr>\n",
       "  </thead>\n",
       "  <tbody>\n",
       "    <tr>\n",
       "      <th>0</th>\n",
       "      <td>9976970</td>\n",
       "      <td>아 더빙.. 진짜 짜증나네요 목소리</td>\n",
       "      <td>0</td>\n",
       "    </tr>\n",
       "    <tr>\n",
       "      <th>1</th>\n",
       "      <td>3819312</td>\n",
       "      <td>흠...포스터보고 초딩영화줄....오버연기조차 가볍지 않구나</td>\n",
       "      <td>1</td>\n",
       "    </tr>\n",
       "    <tr>\n",
       "      <th>2</th>\n",
       "      <td>10265843</td>\n",
       "      <td>너무재밓었다그래서보는것을추천한다</td>\n",
       "      <td>0</td>\n",
       "    </tr>\n",
       "    <tr>\n",
       "      <th>3</th>\n",
       "      <td>9045019</td>\n",
       "      <td>교도소 이야기구먼 ..솔직히 재미는 없다..평점 조정</td>\n",
       "      <td>0</td>\n",
       "    </tr>\n",
       "    <tr>\n",
       "      <th>4</th>\n",
       "      <td>6483659</td>\n",
       "      <td>사이몬페그의 익살스런 연기가 돋보였던 영화!스파이더맨에서 늙어보이기만 했던 커스틴 ...</td>\n",
       "      <td>1</td>\n",
       "    </tr>\n",
       "  </tbody>\n",
       "</table>\n",
       "</div>"
      ],
      "text/plain": [
       "         id                                           document  label\n",
       "0   9976970                                아 더빙.. 진짜 짜증나네요 목소리      0\n",
       "1   3819312                  흠...포스터보고 초딩영화줄....오버연기조차 가볍지 않구나      1\n",
       "2  10265843                                  너무재밓었다그래서보는것을추천한다      0\n",
       "3   9045019                      교도소 이야기구먼 ..솔직히 재미는 없다..평점 조정      0\n",
       "4   6483659  사이몬페그의 익살스런 연기가 돋보였던 영화!스파이더맨에서 늙어보이기만 했던 커스틴 ...      1"
      ]
     },
     "execution_count": 1,
     "metadata": {},
     "output_type": "execute_result"
    }
   ],
   "source": [
    "import pandas as pd\n",
    "import numpy as np\n",
    "import tensorflow as tf\n",
    "import os\n",
    "import matplotlib.pyplot as plt\n",
    "import urllib.request\n",
    "import gensim\n",
    "\n",
    "from konlpy.tag import Okt\n",
    "from konlpy.tag import Mecab\n",
    "from collections import Counter\n",
    "from gensim.models import KeyedVectors\n",
    "from gensim.models.word2vec import Word2Vec\n",
    "from tensorflow.keras.initializers import Constant\n",
    "from gensim.models.keyedvectors import Word2VecKeyedVectors\n",
    "\n",
    "train_data = pd.read_table('~/aiffel/sentiment_classification/data/ratings_train.txt') #데이터 읽기\n",
    "test_data = pd.read_table('~/aiffel/sentiment_classification/data/ratings_test.txt') #데이터 읽기\n",
    "\n",
    "train_data.head() #훈련 데이터 확인"
   ]
  },
  {
   "cell_type": "code",
   "execution_count": 2,
   "id": "76bd0126",
   "metadata": {
    "scrolled": true
   },
   "outputs": [],
   "source": [
    "tokenizer = Mecab()\n",
    "stopwords = ['의','가','이','은','들','는','좀','잘','걍','과','도','를','으로','자','에','와','한','하다'] #조사를 불용어로지정\n",
    "\n",
    "#데이터 가공\n",
    "def load_data(train_data, test_data, num_words=10000):\n",
    "    #중복 제거\n",
    "    train_data.drop_duplicates(subset=['document'], inplace=True) \n",
    "    train_data = train_data.dropna(how = 'any') \n",
    "    test_data.drop_duplicates(subset=['document'], inplace=True)\n",
    "    test_data = test_data.dropna(how = 'any') \n",
    "  \n",
    "    X_train = []\n",
    "    for sentence in train_data['document']:\n",
    "        temp_X = tokenizer.morphs(sentence) #토큰화\n",
    "        temp_X = [word for word in temp_X if not word in stopwords] #불용어 제거\n",
    "        X_train.append(temp_X)\n",
    "    \n",
    "    X_test = []\n",
    "    for sentence in test_data['document']:\n",
    "        temp_X = tokenizer.morphs(sentence) # 토큰화\n",
    "        temp_X = [word for word in temp_X if not word in stopwords] # 불용어 제거\n",
    "        X_test.append(temp_X)\n",
    "        \n",
    "    words = np.concatenate(X_train).tolist()\n",
    "    counter = Counter(words)\n",
    "    counter = counter.most_common(10000-4)\n",
    "    vocab = ['', '', '', ''] + [key for key, _ in counter]\n",
    "    word_to_index = {word:index for index, word in enumerate(vocab)}\n",
    "    \n",
    "    def wordlist_to_indexlist(wordlist): #사전 구성\n",
    "        return [word_to_index[word] if word in word_to_index else word_to_index[''] for word in wordlist]\n",
    "        \n",
    "    X_train = list(map(wordlist_to_indexlist, X_train))\n",
    "    X_test = list(map(wordlist_to_indexlist, X_test))\n",
    "        \n",
    "    return X_train, np.array(list(train_data['label'])), X_test, np.array(list(test_data['label'])), word_to_index\n",
    "    \n",
    "X_train, y_train, X_test, y_test, word_to_index = load_data(train_data, test_data) "
   ]
  },
  {
   "cell_type": "code",
   "execution_count": 3,
   "id": "329f853e",
   "metadata": {},
   "outputs": [],
   "source": [
    "index_to_word = {index:word for word, index in word_to_index.items()}"
   ]
  },
  {
   "cell_type": "code",
   "execution_count": 4,
   "id": "278d1193",
   "metadata": {},
   "outputs": [],
   "source": [
    "# 문장 1개를 활용할 딕셔너리와 함께 주면, 단어 인덱스 리스트 벡터로 변환해 주는 함수입니다. \n",
    "# 단, 모든 문장은 <BOS>로 시작하는 것으로 합니다. \n",
    "def get_encoded_sentence(sentence, word_to_index):\n",
    "    return [word_to_index['<BOS>']]+[word_to_index[word] if word in word_to_index else word_to_index['<UNK>'] for word in sentence.split()]\n",
    "\n",
    "# 여러 개의 문장 리스트를 한꺼번에 단어 인덱스 리스트 벡터로 encode해 주는 함수입니다. \n",
    "def get_encoded_sentences(sentences, word_to_index):\n",
    "    return [get_encoded_sentence(sentence, word_to_index) for sentence in sentences]\n",
    "\n",
    "# 숫자 벡터로 encode된 문장을 원래대로 decode하는 함수입니다. \n",
    "def get_decoded_sentence(encoded_sentence, index_to_word):\n",
    "    return ' '.join(index_to_word[index] if index in index_to_word else '<UNK>' for index in encoded_sentence[1:])  #[1:]를 통해 <BOS>를 제외\n",
    "\n",
    "# 여러 개의 숫자 벡터로 encode된 문장을 한꺼번에 원래대로 decode하는 함수입니다. \n",
    "def get_decoded_sentences(encoded_sentences, index_to_word):\n",
    "    return [get_decoded_sentence(encoded_sentence, index_to_word) for encoded_sentence in encoded_sentences]"
   ]
  },
  {
   "cell_type": "code",
   "execution_count": 5,
   "id": "ae271306",
   "metadata": {},
   "outputs": [
    {
     "name": "stdout",
     "output_type": "stream",
     "text": [
      "Model: \"sequential\"\n",
      "_________________________________________________________________\n",
      "Layer (type)                 Output Shape              Param #   \n",
      "=================================================================\n",
      "embedding (Embedding)        (None, None, 16)          160000    \n",
      "_________________________________________________________________\n",
      "lstm (LSTM)                  (None, 8)                 800       \n",
      "_________________________________________________________________\n",
      "dense (Dense)                (None, 8)                 72        \n",
      "_________________________________________________________________\n",
      "dense_1 (Dense)              (None, 1)                 9         \n",
      "=================================================================\n",
      "Total params: 160,881\n",
      "Trainable params: 160,881\n",
      "Non-trainable params: 0\n",
      "_________________________________________________________________\n"
     ]
    }
   ],
   "source": [
    "#RNN모델\n",
    "vocab_size = 10000  # 어휘 사전의 크기입니다\n",
    "word_vector_dim = 16  # 단어 하나를 표현하는 임베딩 벡터의 차원수입니다. \n",
    "\n",
    "model_rnn = tf.keras.Sequential()\n",
    "model_rnn.add(tf.keras.layers.Embedding(vocab_size, word_vector_dim, input_shape=(None,)))\n",
    "model_rnn.add(tf.keras.layers.LSTM(8))   # 가장 널리 쓰이는 RNN인 LSTM 레이어를 사용하였습니다. 이때 LSTM state 벡터의 차원수는 8로 하였습니다. (변경 가능)\n",
    "model_rnn.add(tf.keras.layers.Dense(8, activation='relu'))\n",
    "model_rnn.add(tf.keras.layers.Dense(1, activation='sigmoid'))  # 최종 출력은 긍정/부정을 나타내는 1dim 입니다.\n",
    "\n",
    "model_rnn.summary()"
   ]
  },
  {
   "cell_type": "code",
   "execution_count": 6,
   "id": "fe78a1d4",
   "metadata": {},
   "outputs": [
    {
     "name": "stdout",
     "output_type": "stream",
     "text": [
      "Model: \"sequential_1\"\n",
      "_________________________________________________________________\n",
      "Layer (type)                 Output Shape              Param #   \n",
      "=================================================================\n",
      "embedding_1 (Embedding)      (None, None, 16)          160000    \n",
      "_________________________________________________________________\n",
      "conv1d (Conv1D)              (None, None, 16)          1808      \n",
      "_________________________________________________________________\n",
      "max_pooling1d (MaxPooling1D) (None, None, 16)          0         \n",
      "_________________________________________________________________\n",
      "conv1d_1 (Conv1D)            (None, None, 16)          1808      \n",
      "_________________________________________________________________\n",
      "global_max_pooling1d (Global (None, 16)                0         \n",
      "_________________________________________________________________\n",
      "dense_2 (Dense)              (None, 8)                 136       \n",
      "_________________________________________________________________\n",
      "dense_3 (Dense)              (None, 1)                 9         \n",
      "=================================================================\n",
      "Total params: 163,761\n",
      "Trainable params: 163,761\n",
      "Non-trainable params: 0\n",
      "_________________________________________________________________\n"
     ]
    }
   ],
   "source": [
    "#1-D CNN 모델\n",
    "vocab_size = 10000  # 어휘 사전의 크기입니다\n",
    "word_vector_dim = 16   # 단어 하나를 표현하는 임베딩 벡터의 차원 수입니다. \n",
    "\n",
    "model_1dcnn = tf.keras.Sequential()\n",
    "model_1dcnn.add(tf.keras.layers.Embedding(vocab_size, word_vector_dim, input_shape=(None,)))\n",
    "model_1dcnn.add(tf.keras.layers.Conv1D(16, 7, activation='relu'))\n",
    "model_1dcnn.add(tf.keras.layers.MaxPooling1D(5))\n",
    "model_1dcnn.add(tf.keras.layers.Conv1D(16, 7, activation='relu'))\n",
    "model_1dcnn.add(tf.keras.layers.GlobalMaxPooling1D())\n",
    "model_1dcnn.add(tf.keras.layers.Dense(8, activation='relu'))\n",
    "model_1dcnn.add(tf.keras.layers.Dense(1, activation='sigmoid'))  # 최종 출력은 긍정/부정을 나타내는 1dim 입니다.\n",
    "\n",
    "model_1dcnn.summary()"
   ]
  },
  {
   "cell_type": "code",
   "execution_count": 7,
   "id": "1ca955f0",
   "metadata": {},
   "outputs": [
    {
     "name": "stdout",
     "output_type": "stream",
     "text": [
      "Model: \"sequential_2\"\n",
      "_________________________________________________________________\n",
      "Layer (type)                 Output Shape              Param #   \n",
      "=================================================================\n",
      "embedding_2 (Embedding)      (None, None, 16)          160000    \n",
      "_________________________________________________________________\n",
      "global_max_pooling1d_1 (Glob (None, 16)                0         \n",
      "_________________________________________________________________\n",
      "dense_4 (Dense)              (None, 8)                 136       \n",
      "_________________________________________________________________\n",
      "dense_5 (Dense)              (None, 1)                 9         \n",
      "=================================================================\n",
      "Total params: 160,145\n",
      "Trainable params: 160,145\n",
      "Non-trainable params: 0\n",
      "_________________________________________________________________\n"
     ]
    }
   ],
   "source": [
    "#GlobalMaxPooling1D 모델\n",
    "vocab_size = 10000  # 어휘 사전의 크기입니다\n",
    "word_vector_dim = 16   # 단어 하나를 표현하는 임베딩 벡터의 차원 수입니다. \n",
    "\n",
    "model_gmp = tf.keras.Sequential()\n",
    "model_gmp.add(tf.keras.layers.Embedding(vocab_size, word_vector_dim, input_shape=(None,)))\n",
    "model_gmp.add(tf.keras.layers.GlobalMaxPooling1D())\n",
    "model_gmp.add(tf.keras.layers.Dense(8, activation='relu'))\n",
    "model_gmp.add(tf.keras.layers.Dense(1, activation='sigmoid'))  # 최종 출력은 긍정/부정을 나타내는 1dim 입니다.\n",
    "\n",
    "model_gmp.summary()"
   ]
  },
  {
   "cell_type": "code",
   "execution_count": 8,
   "id": "443c06a8",
   "metadata": {},
   "outputs": [],
   "source": [
    "imdb = tf.keras.datasets.imdb\n",
    "\n",
    "# IMDb 데이터셋 다운로드 \n",
    "(x_train, y_train), (x_test, y_test) = imdb.load_data(num_words=10000)"
   ]
  },
  {
   "cell_type": "code",
   "execution_count": 9,
   "id": "e468582c",
   "metadata": {},
   "outputs": [],
   "source": [
    "word_to_index = imdb.get_word_index()\n",
    "index_to_word = {index:word for word, index in word_to_index.items()}\n",
    "\n",
    "word_to_index = {k:(v+3) for k,v in word_to_index.items()}\n",
    "\n",
    "# 처음 몇 개 인덱스는 사전에 정의되어 있습니다\n",
    "word_to_index[\"<PAD>\"] = 0\n",
    "word_to_index[\"<BOS>\"] = 1\n",
    "word_to_index[\"<UNK>\"] = 2 \n",
    "word_to_index[\"<UNUSED>\"] = 3\n",
    "\n",
    "index_to_word = {index:word for word, index in word_to_index.items()}"
   ]
  },
  {
   "cell_type": "code",
   "execution_count": 10,
   "id": "5f296eac",
   "metadata": {},
   "outputs": [
    {
     "name": "stdout",
     "output_type": "stream",
     "text": [
      "문장길이 평균 :  234.75892\n",
      "문장길이 최대 :  2494\n",
      "문장길이 표준편차 :  172.91149458735703\n",
      "pad_sequences maxlen :  580\n",
      "전체 문장의 0.94536%가 maxlen 설정값 이내에 포함됩니다. \n"
     ]
    }
   ],
   "source": [
    "total_data_text = list(x_train) + list(x_test)\n",
    "# 텍스트데이터 문장길이의 리스트를 생성한 후\n",
    "num_tokens = [len(tokens) for tokens in total_data_text]\n",
    "num_tokens = np.array(num_tokens)\n",
    "# 문장길이의 평균값, 최대값, 표준편차를 계산해 본다. \n",
    "print('문장길이 평균 : ', np.mean(num_tokens))\n",
    "print('문장길이 최대 : ', np.max(num_tokens))\n",
    "print('문장길이 표준편차 : ', np.std(num_tokens))\n",
    "\n",
    "# 예를들어, 최대 길이를 (평균 + 2*표준편차)로 한다면,  \n",
    "max_tokens = np.mean(num_tokens) + 2 * np.std(num_tokens)\n",
    "maxlen = int(max_tokens)\n",
    "print('pad_sequences maxlen : ', maxlen)\n",
    "print('전체 문장의 {}%가 maxlen 설정값 이내에 포함됩니다. '.format(np.sum(num_tokens < max_tokens) / len(num_tokens)))"
   ]
  },
  {
   "cell_type": "code",
   "execution_count": 11,
   "id": "bc48394e",
   "metadata": {},
   "outputs": [
    {
     "name": "stdout",
     "output_type": "stream",
     "text": [
      "(25000, 580)\n"
     ]
    }
   ],
   "source": [
    "x_train = tf.keras.preprocessing.sequence.pad_sequences(x_train,\n",
    "                                                        value=word_to_index[\"<PAD>\"],\n",
    "                                                        padding='post', # 혹은 'pre'\n",
    "                                                        maxlen=maxlen)\n",
    "\n",
    "x_test = tf.keras.preprocessing.sequence.pad_sequences(x_test,\n",
    "                                                       value=word_to_index[\"<PAD>\"],\n",
    "                                                       padding='post', # 혹은 'pre'\n",
    "                                                       maxlen=maxlen)\n",
    "print(x_train.shape) #훈련데이터의 크기"
   ]
  },
  {
   "cell_type": "code",
   "execution_count": 12,
   "id": "fcad0f07",
   "metadata": {},
   "outputs": [
    {
     "name": "stdout",
     "output_type": "stream",
     "text": [
      "(15000, 580)\n",
      "(15000,)\n"
     ]
    }
   ],
   "source": [
    "# validation set 10000건 분리\n",
    "x_val = x_train[:10000]   \n",
    "y_val = y_train[:10000]\n",
    "\n",
    "# validation set을 제외한 나머지 15000건(25000(Total_data) - 10000(Train_data) = 15000(Test_data))\n",
    "partial_x_train = x_train[10000:]  \n",
    "partial_y_train = y_train[10000:]\n",
    "\n",
    "print(partial_x_train.shape)\n",
    "print(partial_y_train.shape)"
   ]
  },
  {
   "cell_type": "code",
   "execution_count": 13,
   "id": "80c62475",
   "metadata": {},
   "outputs": [
    {
     "name": "stdout",
     "output_type": "stream",
     "text": [
      "Epoch 1/20\n",
      "30/30 [==============================] - 4s 45ms/step - loss: 0.6931 - accuracy: 0.5093 - val_loss: 0.6931 - val_accuracy: 0.5009\n",
      "Epoch 2/20\n",
      "30/30 [==============================] - 1s 28ms/step - loss: 0.6928 - accuracy: 0.5091 - val_loss: 0.6931 - val_accuracy: 0.5010\n",
      "Epoch 3/20\n",
      "30/30 [==============================] - 1s 28ms/step - loss: 0.6925 - accuracy: 0.5105 - val_loss: 0.6929 - val_accuracy: 0.5011\n",
      "Epoch 4/20\n",
      "30/30 [==============================] - 1s 28ms/step - loss: 0.6914 - accuracy: 0.5143 - val_loss: 0.6922 - val_accuracy: 0.5015\n",
      "Epoch 5/20\n",
      "30/30 [==============================] - 1s 28ms/step - loss: 0.6875 - accuracy: 0.5138 - val_loss: 0.6899 - val_accuracy: 0.5068\n",
      "Epoch 6/20\n",
      "30/30 [==============================] - 1s 28ms/step - loss: 0.6781 - accuracy: 0.5301 - val_loss: 0.7241 - val_accuracy: 0.5110\n",
      "Epoch 7/20\n",
      "30/30 [==============================] - 1s 28ms/step - loss: 0.7028 - accuracy: 0.5467 - val_loss: 0.6930 - val_accuracy: 0.5121\n",
      "Epoch 8/20\n",
      "30/30 [==============================] - 1s 29ms/step - loss: 0.6736 - accuracy: 0.5350 - val_loss: 0.6868 - val_accuracy: 0.5124\n",
      "Epoch 9/20\n",
      "30/30 [==============================] - 1s 28ms/step - loss: 0.6692 - accuracy: 0.5374 - val_loss: 0.6856 - val_accuracy: 0.5134\n",
      "Epoch 10/20\n",
      "30/30 [==============================] - 1s 29ms/step - loss: 0.6662 - accuracy: 0.5389 - val_loss: 0.6862 - val_accuracy: 0.5141\n",
      "Epoch 11/20\n",
      "30/30 [==============================] - 1s 28ms/step - loss: 0.6635 - accuracy: 0.5397 - val_loss: 0.6851 - val_accuracy: 0.5152\n",
      "Epoch 12/20\n",
      "30/30 [==============================] - 1s 27ms/step - loss: 0.6612 - accuracy: 0.5403 - val_loss: 0.6853 - val_accuracy: 0.5156\n",
      "Epoch 13/20\n",
      "30/30 [==============================] - 1s 28ms/step - loss: 0.6591 - accuracy: 0.5415 - val_loss: 0.6853 - val_accuracy: 0.5173\n",
      "Epoch 14/20\n",
      "30/30 [==============================] - 1s 28ms/step - loss: 0.6566 - accuracy: 0.5436 - val_loss: 0.6848 - val_accuracy: 0.5199\n",
      "Epoch 15/20\n",
      "30/30 [==============================] - 1s 30ms/step - loss: 0.6430 - accuracy: 0.5985 - val_loss: 0.6233 - val_accuracy: 0.6738\n",
      "Epoch 16/20\n",
      "30/30 [==============================] - 1s 28ms/step - loss: 0.5800 - accuracy: 0.7289 - val_loss: 0.5944 - val_accuracy: 0.7189\n",
      "Epoch 17/20\n",
      "30/30 [==============================] - 1s 28ms/step - loss: 0.6539 - accuracy: 0.6971 - val_loss: 0.6189 - val_accuracy: 0.6908\n",
      "Epoch 18/20\n",
      "30/30 [==============================] - 1s 28ms/step - loss: 0.5816 - accuracy: 0.7239 - val_loss: 0.6749 - val_accuracy: 0.6553\n",
      "Epoch 19/20\n",
      "30/30 [==============================] - 1s 27ms/step - loss: 0.6013 - accuracy: 0.7137 - val_loss: 0.6178 - val_accuracy: 0.7029\n",
      "Epoch 20/20\n",
      "30/30 [==============================] - 1s 28ms/step - loss: 0.5740 - accuracy: 0.7323 - val_loss: 0.5923 - val_accuracy: 0.7240\n"
     ]
    }
   ],
   "source": [
    "#RNN모델 학습 시작\n",
    "model_rnn.compile(optimizer='adam',\n",
    "              loss='binary_crossentropy',\n",
    "              metrics=['accuracy'])\n",
    "              \n",
    "epochs=20  # 몇 epoch를 훈련하면 좋을지 결과를 보면서 바꾸어 봅시다. \n",
    "\n",
    "history_rnn = model_rnn.fit(partial_x_train,\n",
    "                    partial_y_train,\n",
    "                    epochs=epochs,\n",
    "                    batch_size=512,\n",
    "                    validation_data=(x_val, y_val),\n",
    "                    verbose=1)"
   ]
  },
  {
   "cell_type": "code",
   "execution_count": 14,
   "id": "9e910fed",
   "metadata": {},
   "outputs": [
    {
     "data": {
      "image/png": "[encoded data removed]",
      "text/plain": [
       "<Figure size 432x288 with 1 Axes>"
      ]
     },
     "metadata": {
      "needs_background": "light"
     },
     "output_type": "display_data"
    }
   ],
   "source": [
    "#RNN모델의 학습 Loss와 accuracy 그래프\n",
    "history_rnn = history_rnn.history\n",
    "acc = history_rnn['accuracy']\n",
    "val_acc = history_rnn['val_accuracy']\n",
    "loss = history_rnn['loss']\n",
    "val_loss = history_rnn['val_loss']\n",
    "\n",
    "epochs = range(1, len(acc) + 1)\n",
    "#Training loss and Validation loss Graph\n",
    "plt.plot(epochs, loss, 'bo', label='Training loss')\n",
    "plt.plot(epochs, val_loss, 'b', label='Validation loss')\n",
    "plt.title('Training and validation loss')\n",
    "plt.xlabel('Epochs')\n",
    "plt.ylabel('Loss')\n",
    "plt.legend()\n",
    "\n",
    "plt.show()"
   ]
  },
  {
   "cell_type": "code",
   "execution_count": 15,
   "id": "14aa1ef9",
   "metadata": {},
   "outputs": [
    {
     "data": {
      "image/png": "[encoded data removed]",
      "text/plain": [
       "<Figure size 432x288 with 1 Axes>"
      ]
     },
     "metadata": {
      "needs_background": "light"
     },
     "output_type": "display_data"
    }
   ],
   "source": [
    "#Training accuracy and Validation accuracy graph\n",
    "plt.plot(epochs, acc, 'bo', label='Training acc')\n",
    "plt.plot(epochs, val_acc, 'b', label='Validation acc')\n",
    "plt.title('Training and validation accuracy')\n",
    "plt.xlabel('Epochs')\n",
    "plt.ylabel('Accuracy')\n",
    "plt.legend()\n",
    "\n",
    "plt.show()"
   ]
  },
  {
   "cell_type": "code",
   "execution_count": 16,
   "id": "91a53dfc",
   "metadata": {},
   "outputs": [
    {
     "name": "stdout",
     "output_type": "stream",
     "text": [
      "Epoch 1/20\n",
      "30/30 [==============================] - 3s 28ms/step - loss: 0.6929 - accuracy: 0.5175 - val_loss: 0.6922 - val_accuracy: 0.4957\n",
      "Epoch 2/20\n",
      "30/30 [==============================] - 1s 18ms/step - loss: 0.6867 - accuracy: 0.5799 - val_loss: 0.6834 - val_accuracy: 0.6863\n",
      "Epoch 3/20\n",
      "30/30 [==============================] - 1s 18ms/step - loss: 0.6453 - accuracy: 0.7550 - val_loss: 0.5715 - val_accuracy: 0.7916\n",
      "Epoch 4/20\n",
      "30/30 [==============================] - 1s 18ms/step - loss: 0.4267 - accuracy: 0.8443 - val_loss: 0.3469 - val_accuracy: 0.8546\n",
      "Epoch 5/20\n",
      "30/30 [==============================] - 1s 19ms/step - loss: 0.2537 - accuracy: 0.8999 - val_loss: 0.3146 - val_accuracy: 0.8678\n",
      "Epoch 6/20\n",
      "30/30 [==============================] - 1s 18ms/step - loss: 0.1735 - accuracy: 0.9406 - val_loss: 0.3221 - val_accuracy: 0.8686\n",
      "Epoch 7/20\n",
      "30/30 [==============================] - 1s 19ms/step - loss: 0.1218 - accuracy: 0.9639 - val_loss: 0.3422 - val_accuracy: 0.8664\n",
      "Epoch 8/20\n",
      "30/30 [==============================] - 1s 19ms/step - loss: 0.0846 - accuracy: 0.9779 - val_loss: 0.3779 - val_accuracy: 0.8603\n",
      "Epoch 9/20\n",
      "30/30 [==============================] - 1s 19ms/step - loss: 0.0585 - accuracy: 0.9868 - val_loss: 0.4145 - val_accuracy: 0.8584\n",
      "Epoch 10/20\n",
      "30/30 [==============================] - 1s 19ms/step - loss: 0.0389 - accuracy: 0.9931 - val_loss: 0.4548 - val_accuracy: 0.8566\n",
      "Epoch 11/20\n",
      "30/30 [==============================] - 1s 18ms/step - loss: 0.0243 - accuracy: 0.9971 - val_loss: 0.4934 - val_accuracy: 0.8563\n",
      "Epoch 12/20\n",
      "30/30 [==============================] - 1s 19ms/step - loss: 0.0154 - accuracy: 0.9988 - val_loss: 0.5301 - val_accuracy: 0.8554\n",
      "Epoch 13/20\n",
      "30/30 [==============================] - 1s 18ms/step - loss: 0.0101 - accuracy: 0.9995 - val_loss: 0.5642 - val_accuracy: 0.8552\n",
      "Epoch 14/20\n",
      "30/30 [==============================] - 1s 18ms/step - loss: 0.0070 - accuracy: 0.9997 - val_loss: 0.5910 - val_accuracy: 0.8541\n",
      "Epoch 15/20\n",
      "30/30 [==============================] - 1s 19ms/step - loss: 0.0053 - accuracy: 0.9998 - val_loss: 0.6192 - val_accuracy: 0.8535\n",
      "Epoch 16/20\n",
      "30/30 [==============================] - 1s 19ms/step - loss: 0.0039 - accuracy: 0.9999 - val_loss: 0.6412 - val_accuracy: 0.8540\n",
      "Epoch 17/20\n",
      "30/30 [==============================] - 1s 19ms/step - loss: 0.0029 - accuracy: 0.9999 - val_loss: 0.6612 - val_accuracy: 0.8538\n",
      "Epoch 18/20\n",
      "30/30 [==============================] - 1s 19ms/step - loss: 0.0023 - accuracy: 0.9999 - val_loss: 0.6803 - val_accuracy: 0.8538\n",
      "Epoch 19/20\n",
      "30/30 [==============================] - 1s 18ms/step - loss: 0.0020 - accuracy: 0.9999 - val_loss: 0.6965 - val_accuracy: 0.8542\n",
      "Epoch 20/20\n",
      "30/30 [==============================] - 1s 18ms/step - loss: 0.0017 - accuracy: 0.9999 - val_loss: 0.7114 - val_accuracy: 0.8534\n"
     ]
    }
   ],
   "source": [
    "#1-D CNN모델 학습 시작\n",
    "model_1dcnn.compile(optimizer='adam',\n",
    "              loss='binary_crossentropy',\n",
    "              metrics=['accuracy'])\n",
    "              \n",
    "epochs=20  # 몇 epoch를 훈련하면 좋을지 결과를 보면서 바꾸어 봅시다. \n",
    "\n",
    "history_1dcnn = model_1dcnn.fit(partial_x_train,\n",
    "                    partial_y_train,\n",
    "                    epochs=epochs,\n",
    "                    batch_size=512,\n",
    "                    validation_data=(x_val, y_val),\n",
    "                    verbose=1)"
   ]
  },
  {
   "cell_type": "code",
   "execution_count": 17,
   "id": "7c562d2d",
   "metadata": {},
   "outputs": [
    {
     "data": {
      "image/png": "[encoded data removed]",
      "text/plain": [
       "<Figure size 432x288 with 1 Axes>"
      ]
     },
     "metadata": {
      "needs_background": "light"
     },
     "output_type": "display_data"
    }
   ],
   "source": [
    "history_1dcnn = history_1dcnn.history\n",
    "acc = history_1dcnn['accuracy']\n",
    "val_acc = history_1dcnn['val_accuracy']\n",
    "loss = history_1dcnn['loss']\n",
    "val_loss = history_1dcnn['val_loss']\n",
    "\n",
    "epochs = range(1, len(acc) + 1)\n",
    "\n",
    "plt.plot(epochs, loss, 'bo', label='Training loss')\n",
    "plt.plot(epochs, val_loss, 'b', label='Validation loss')\n",
    "plt.title('Training and validation loss')\n",
    "plt.xlabel('Epochs')\n",
    "plt.ylabel('Loss')\n",
    "plt.legend()\n",
    "\n",
    "plt.show()"
   ]
  },
  {
   "cell_type": "code",
   "execution_count": 18,
   "id": "af80fb3a",
   "metadata": {},
   "outputs": [
    {
     "data": {
      "image/png": "[encoded data removed]",
      "text/plain": [
       "<Figure size 432x288 with 1 Axes>"
      ]
     },
     "metadata": {
      "needs_background": "light"
     },
     "output_type": "display_data"
    }
   ],
   "source": [
    "plt.plot(epochs, acc, 'bo', label='Training acc')\n",
    "plt.plot(epochs, val_acc, 'b', label='Validation acc')\n",
    "plt.title('Training and validation accuracy')\n",
    "plt.xlabel('Epochs')\n",
    "plt.ylabel('Accuracy')\n",
    "plt.legend()\n",
    "\n",
    "plt.show()"
   ]
  },
  {
   "cell_type": "code",
   "execution_count": 19,
   "id": "ad8cb9d9",
   "metadata": {},
   "outputs": [
    {
     "name": "stdout",
     "output_type": "stream",
     "text": [
      "Epoch 1/20\n",
      "30/30 [==============================] - 1s 11ms/step - loss: 0.6916 - accuracy: 0.5038 - val_loss: 0.6889 - val_accuracy: 0.5216\n",
      "Epoch 2/20\n",
      "30/30 [==============================] - 0s 8ms/step - loss: 0.6828 - accuracy: 0.6331 - val_loss: 0.6764 - val_accuracy: 0.6684\n",
      "Epoch 3/20\n",
      "30/30 [==============================] - 0s 7ms/step - loss: 0.6627 - accuracy: 0.7215 - val_loss: 0.6520 - val_accuracy: 0.6939\n",
      "Epoch 4/20\n",
      "30/30 [==============================] - 0s 6ms/step - loss: 0.6276 - accuracy: 0.7435 - val_loss: 0.6131 - val_accuracy: 0.7595\n",
      "Epoch 5/20\n",
      "30/30 [==============================] - 0s 6ms/step - loss: 0.5791 - accuracy: 0.8023 - val_loss: 0.5669 - val_accuracy: 0.7807\n",
      "Epoch 6/20\n",
      "30/30 [==============================] - 0s 6ms/step - loss: 0.5261 - accuracy: 0.8271 - val_loss: 0.5211 - val_accuracy: 0.8061\n",
      "Epoch 7/20\n",
      "30/30 [==============================] - 0s 6ms/step - loss: 0.4751 - accuracy: 0.8409 - val_loss: 0.4801 - val_accuracy: 0.8188\n",
      "Epoch 8/20\n",
      "30/30 [==============================] - 0s 6ms/step - loss: 0.4294 - accuracy: 0.8555 - val_loss: 0.4460 - val_accuracy: 0.8257\n",
      "Epoch 9/20\n",
      "30/30 [==============================] - 0s 6ms/step - loss: 0.3881 - accuracy: 0.8679 - val_loss: 0.4174 - val_accuracy: 0.8323\n",
      "Epoch 10/20\n",
      "30/30 [==============================] - 0s 6ms/step - loss: 0.3509 - accuracy: 0.8807 - val_loss: 0.3951 - val_accuracy: 0.8374\n",
      "Epoch 11/20\n",
      "30/30 [==============================] - 0s 6ms/step - loss: 0.3190 - accuracy: 0.8901 - val_loss: 0.3791 - val_accuracy: 0.8400\n",
      "Epoch 12/20\n",
      "30/30 [==============================] - 0s 6ms/step - loss: 0.2916 - accuracy: 0.8981 - val_loss: 0.3679 - val_accuracy: 0.8421\n",
      "Epoch 13/20\n",
      "30/30 [==============================] - 0s 6ms/step - loss: 0.2681 - accuracy: 0.9057 - val_loss: 0.3602 - val_accuracy: 0.8449\n",
      "Epoch 14/20\n",
      "30/30 [==============================] - 0s 6ms/step - loss: 0.2474 - accuracy: 0.9146 - val_loss: 0.3539 - val_accuracy: 0.8484\n",
      "Epoch 15/20\n",
      "30/30 [==============================] - 0s 6ms/step - loss: 0.2289 - accuracy: 0.9218 - val_loss: 0.3524 - val_accuracy: 0.8484\n",
      "Epoch 16/20\n",
      "30/30 [==============================] - 0s 6ms/step - loss: 0.2124 - accuracy: 0.9301 - val_loss: 0.3497 - val_accuracy: 0.8494\n",
      "Epoch 17/20\n",
      "30/30 [==============================] - 0s 6ms/step - loss: 0.1975 - accuracy: 0.9359 - val_loss: 0.3511 - val_accuracy: 0.8490\n",
      "Epoch 18/20\n",
      "30/30 [==============================] - 0s 6ms/step - loss: 0.1841 - accuracy: 0.9415 - val_loss: 0.3513 - val_accuracy: 0.8494\n",
      "Epoch 19/20\n",
      "30/30 [==============================] - 0s 7ms/step - loss: 0.1717 - accuracy: 0.9459 - val_loss: 0.3557 - val_accuracy: 0.8481\n",
      "Epoch 20/20\n",
      "30/30 [==============================] - 0s 6ms/step - loss: 0.1603 - accuracy: 0.9503 - val_loss: 0.3565 - val_accuracy: 0.8483\n"
     ]
    }
   ],
   "source": [
    "#GlobalMaxPooling1D 모델 학습 시작\n",
    "model_gmp.compile(optimizer='adam',\n",
    "              loss='binary_crossentropy',\n",
    "              metrics=['accuracy'])\n",
    "              \n",
    "epochs=20  # 몇 epoch를 훈련하면 좋을지 결과를 보면서 바꾸어 봅시다. \n",
    "\n",
    "history_gmp = model_gmp.fit(partial_x_train,\n",
    "                    partial_y_train,\n",
    "                    epochs=epochs,\n",
    "                    batch_size=512,\n",
    "                    validation_data=(x_val, y_val),\n",
    "                    verbose=1)"
   ]
  },
  {
   "cell_type": "code",
   "execution_count": 20,
   "id": "fcb5f7c1",
   "metadata": {
    "scrolled": true
   },
   "outputs": [
    {
     "data": {
      "image/png": "[encoded data removed]",
      "text/plain": [
       "<Figure size 432x288 with 1 Axes>"
      ]
     },
     "metadata": {
      "needs_background": "light"
     },
     "output_type": "display_data"
    }
   ],
   "source": [
    "history_gmp = history_gmp.history\n",
    "acc = history_gmp['accuracy']\n",
    "val_acc = history_gmp['val_accuracy']\n",
    "loss = history_gmp['loss']\n",
    "val_loss = history_gmp['val_loss']\n",
    "\n",
    "epochs = range(1, len(acc) + 1)\n",
    "\n",
    "plt.plot(epochs, loss, 'bo', label='Training loss')\n",
    "plt.plot(epochs, val_loss, 'b', label='Validation loss')\n",
    "plt.title('Training and validation loss')\n",
    "plt.xlabel('Epochs')\n",
    "plt.ylabel('Loss')\n",
    "plt.legend()\n",
    "\n",
    "plt.show()"
   ]
  },
  {
   "cell_type": "code",
   "execution_count": 21,
   "id": "e8858d66",
   "metadata": {},
   "outputs": [
    {
     "data": {
      "image/png": "[encoded data removed]",
      "text/plain": [
       "<Figure size 432x288 with 1 Axes>"
      ]
     },
     "metadata": {
      "needs_background": "light"
     },
     "output_type": "display_data"
    }
   ],
   "source": [
    "plt.plot(epochs, acc, 'bo', label='Training acc')\n",
    "plt.plot(epochs, val_acc, 'b', label='Validation acc')\n",
    "plt.title('Training and validation accuracy')\n",
    "plt.xlabel('Epochs')\n",
    "plt.ylabel('Accuracy')\n",
    "plt.legend()\n",
    "\n",
    "plt.show()"
   ]
  },
  {
   "cell_type": "code",
   "execution_count": 22,
   "id": "063ce761",
   "metadata": {},
   "outputs": [],
   "source": [
    "word2vec_path = os.getenv('HOME')+'/aiffel/sentiment_classification/data/ko.bin'\n",
    "word2vec = gensim.models.Word2Vec.load(word2vec_path)"
   ]
  },
  {
   "cell_type": "code",
   "execution_count": 23,
   "id": "c9cd78b0",
   "metadata": {},
   "outputs": [
    {
     "name": "stderr",
     "output_type": "stream",
     "text": [
      "/tmp/ipykernel_3761/2221278766.py:2: DeprecationWarning: Call to deprecated `similar_by_word` (Method will be removed in 4.0.0, use self.wv.similar_by_word() instead).\n",
      "  word2vec.similar_by_word(\"사랑\")\n"
     ]
    },
    {
     "data": {
      "text/plain": [
       "[('슬픔', 0.7216662764549255),\n",
       " ('행복', 0.6759077310562134),\n",
       " ('절망', 0.6468985080718994),\n",
       " ('기쁨', 0.6458414196968079),\n",
       " ('이별', 0.6334798336029053),\n",
       " ('추억', 0.6320937275886536),\n",
       " ('인생', 0.6216273307800293),\n",
       " ('애정', 0.6206069588661194),\n",
       " ('연인', 0.6186063289642334),\n",
       " ('유혹', 0.5965287685394287)]"
      ]
     },
     "execution_count": 23,
     "metadata": {},
     "output_type": "execute_result"
    }
   ],
   "source": [
    "#제시한 단어와 비슷한 단어를 찾기\n",
    "word2vec.similar_by_word(\"사랑\")"
   ]
  },
  {
   "cell_type": "code",
   "execution_count": 24,
   "id": "a968f7c2",
   "metadata": {},
   "outputs": [
    {
     "name": "stderr",
     "output_type": "stream",
     "text": [
      "/tmp/ipykernel_3761/2211409140.py:8: DeprecationWarning: Call to deprecated `__contains__` (Method will be removed in 4.0.0, use self.wv.__contains__() instead).\n",
      "  if index_to_word[i] in word2vec:\n"
     ]
    }
   ],
   "source": [
    "#Word2Vec 모델로 학습 시키기\n",
    "vocab_size = 10000    # 어휘 사전의 크기입니다(10,000개의 단어)\n",
    "word_vector_dim = 300  # 워드 벡터의 차원수\n",
    "embedding_matrix = np.random.rand(vocab_size, word_vector_dim)\n",
    "\n",
    "# embedding_matrix에 Word2Vec 워드 벡터를 단어 하나씩마다 차례차례 카피한다.\n",
    "for i in range(4,vocab_size):\n",
    "    if index_to_word[i] in word2vec:\n",
    "        embedding_matrix[i] = word2vec[index_to_word[i]]"
   ]
  },
  {
   "cell_type": "code",
   "execution_count": 25,
   "id": "2213ff5d",
   "metadata": {
    "scrolled": false
   },
   "outputs": [
    {
     "name": "stdout",
     "output_type": "stream",
     "text": [
      "Model: \"sequential_3\"\n",
      "_________________________________________________________________\n",
      "Layer (type)                 Output Shape              Param #   \n",
      "=================================================================\n",
      "embedding_3 (Embedding)      (None, None, 300)         3000000   \n",
      "_________________________________________________________________\n",
      "global_max_pooling1d_2 (Glob (None, 300)               0         \n",
      "_________________________________________________________________\n",
      "dense_6 (Dense)              (None, 8)                 2408      \n",
      "_________________________________________________________________\n",
      "dense_7 (Dense)              (None, 1)                 9         \n",
      "=================================================================\n",
      "Total params: 3,002,417\n",
      "Trainable params: 3,002,417\n",
      "Non-trainable params: 0\n",
      "_________________________________________________________________\n"
     ]
    }
   ],
   "source": [
    "vocab_size = 10000    # 어휘 사전의 크기입니다(10,000개의 단어)\n",
    "word_vector_dim = 300  # 워드 벡터의 차원 수 \n",
    "\n",
    "#모델 구성\n",
    "model = tf.keras.Sequential()\n",
    "model.add(tf.keras.layers.Embedding(vocab_size, word_vector_dim, input_shape=(None,)))\n",
    "model.add(tf.keras.layers.GlobalMaxPooling1D())\n",
    "model.add(tf.keras.layers.Dense(8, activation='relu'))\n",
    "model.add(tf.keras.layers.Dense(1, activation='sigmoid')) \n",
    "\n",
    "model.summary()"
   ]
  },
  {
   "cell_type": "code",
   "execution_count": 26,
   "id": "d0d43339",
   "metadata": {
    "scrolled": false
   },
   "outputs": [
    {
     "name": "stdout",
     "output_type": "stream",
     "text": [
      "Epoch 1/25\n",
      "15/15 - 1s - loss: 0.6889 - accuracy: 0.6391 - val_loss: 0.6817 - val_accuracy: 0.7955\n",
      "Epoch 2/25\n",
      "15/15 - 1s - loss: 0.6711 - accuracy: 0.8127 - val_loss: 0.6602 - val_accuracy: 0.8351\n",
      "Epoch 3/25\n",
      "15/15 - 1s - loss: 0.6373 - accuracy: 0.8649 - val_loss: 0.6176 - val_accuracy: 0.8619\n",
      "Epoch 4/25\n",
      "15/15 - 1s - loss: 0.5745 - accuracy: 0.8904 - val_loss: 0.5486 - val_accuracy: 0.8652\n",
      "Epoch 5/25\n",
      "15/15 - 1s - loss: 0.4862 - accuracy: 0.9017 - val_loss: 0.4662 - val_accuracy: 0.8705\n",
      "Epoch 6/25\n",
      "15/15 - 1s - loss: 0.3910 - accuracy: 0.9101 - val_loss: 0.3921 - val_accuracy: 0.8797\n",
      "Epoch 7/25\n",
      "15/15 - 1s - loss: 0.3106 - accuracy: 0.9173 - val_loss: 0.3393 - val_accuracy: 0.8812\n",
      "Epoch 8/25\n",
      "15/15 - 1s - loss: 0.2512 - accuracy: 0.9283 - val_loss: 0.3082 - val_accuracy: 0.8844\n",
      "Epoch 9/25\n",
      "15/15 - 1s - loss: 0.2082 - accuracy: 0.9391 - val_loss: 0.2904 - val_accuracy: 0.8866\n",
      "Epoch 10/25\n",
      "15/15 - 1s - loss: 0.1753 - accuracy: 0.9495 - val_loss: 0.2799 - val_accuracy: 0.8879\n",
      "Epoch 11/25\n",
      "15/15 - 1s - loss: 0.1482 - accuracy: 0.9604 - val_loss: 0.2737 - val_accuracy: 0.8890\n",
      "Epoch 12/25\n",
      "15/15 - 1s - loss: 0.1254 - accuracy: 0.9695 - val_loss: 0.2703 - val_accuracy: 0.8899\n",
      "Epoch 13/25\n",
      "15/15 - 1s - loss: 0.1058 - accuracy: 0.9771 - val_loss: 0.2692 - val_accuracy: 0.8896\n",
      "Epoch 14/25\n",
      "15/15 - 1s - loss: 0.0891 - accuracy: 0.9829 - val_loss: 0.2687 - val_accuracy: 0.8910\n",
      "Epoch 15/25\n",
      "15/15 - 1s - loss: 0.0747 - accuracy: 0.9881 - val_loss: 0.2697 - val_accuracy: 0.8903\n",
      "Epoch 16/25\n",
      "15/15 - 1s - loss: 0.0626 - accuracy: 0.9914 - val_loss: 0.2715 - val_accuracy: 0.8919\n",
      "Epoch 17/25\n",
      "15/15 - 1s - loss: 0.0525 - accuracy: 0.9941 - val_loss: 0.2739 - val_accuracy: 0.8897\n",
      "Epoch 18/25\n",
      "15/15 - 1s - loss: 0.0439 - accuracy: 0.9960 - val_loss: 0.2765 - val_accuracy: 0.8899\n",
      "Epoch 19/25\n",
      "15/15 - 1s - loss: 0.0369 - accuracy: 0.9976 - val_loss: 0.2798 - val_accuracy: 0.8899\n",
      "Epoch 20/25\n",
      "15/15 - 1s - loss: 0.0312 - accuracy: 0.9986 - val_loss: 0.2831 - val_accuracy: 0.8899\n",
      "Epoch 21/25\n",
      "15/15 - 1s - loss: 0.0264 - accuracy: 0.9991 - val_loss: 0.2866 - val_accuracy: 0.8900\n",
      "Epoch 22/25\n",
      "15/15 - 1s - loss: 0.0225 - accuracy: 0.9993 - val_loss: 0.2904 - val_accuracy: 0.8885\n",
      "Epoch 23/25\n",
      "15/15 - 1s - loss: 0.0194 - accuracy: 0.9995 - val_loss: 0.2940 - val_accuracy: 0.8892\n",
      "Epoch 24/25\n",
      "15/15 - 1s - loss: 0.0167 - accuracy: 0.9997 - val_loss: 0.2975 - val_accuracy: 0.8884\n",
      "Epoch 25/25\n",
      "15/15 - 1s - loss: 0.0145 - accuracy: 0.9999 - val_loss: 0.3012 - val_accuracy: 0.8882\n"
     ]
    }
   ],
   "source": [
    "#학습 시작\n",
    "model.compile(optimizer='adam',\n",
    "              loss='binary_crossentropy',\n",
    "              metrics=['accuracy'])\n",
    "              \n",
    "epochs=25  # 몇 epoch를 훈련하면 좋을지 결과를 보면서 바꾸어 봅시다. --- > 훈련 데이터의 값이 26번째부터 안정적으로 1이 되므로 값을 줄여도 됨\n",
    "\n",
    "history = model.fit(partial_x_train,\n",
    "                    partial_y_train,\n",
    "                    epochs=epochs,\n",
    "                    batch_size=1024,\n",
    "                    validation_data=(x_val, y_val),\n",
    "                    verbose=2)"
   ]
  },
  {
   "cell_type": "code",
   "execution_count": 27,
   "id": "7a22ac62",
   "metadata": {},
   "outputs": [
    {
     "name": "stdout",
     "output_type": "stream",
     "text": [
      "782/782 - 1s - loss: 0.3266 - accuracy: 0.8741\n",
      "[0.3265533149242401, 0.8740800023078918]\n"
     ]
    }
   ],
   "source": [
    "#모델의 결과값\n",
    "results = model.evaluate(x_test,  y_test, verbose=2)\n",
    "\n",
    "print(results)"
   ]
  },
  {
   "cell_type": "code",
   "execution_count": 28,
   "id": "1068854c",
   "metadata": {},
   "outputs": [
    {
     "data": {
      "image/png": "[encoded data removed]",
      "text/plain": [
       "<Figure size 432x288 with 1 Axes>"
      ]
     },
     "metadata": {
      "needs_background": "light"
     },
     "output_type": "display_data"
    }
   ],
   "source": [
    "#모델의 결과값을 그래프로 표시\n",
    "history = history.history\n",
    "acc = history['accuracy']\n",
    "val_acc = history['val_accuracy']\n",
    "loss = history['loss']\n",
    "val_loss = history['val_loss']\n",
    "\n",
    "epochs = range(1, len(acc) + 1)\n",
    "\n",
    "plt.plot(epochs, loss, 'bo', label='Training loss')\n",
    "plt.plot(epochs, val_loss, 'b', label='Validation loss')\n",
    "plt.title('Training and validation loss')\n",
    "plt.xlabel('Epochs')\n",
    "plt.ylabel('Loss')\n",
    "plt.legend()\n",
    "\n",
    "plt.show()"
   ]
  },
  {
   "cell_type": "code",
   "execution_count": 29,
   "id": "9b2aef6e",
   "metadata": {},
   "outputs": [
    {
     "data": {
      "image/png": "[encoded data removed]",
      "text/plain": [
       "<Figure size 432x288 with 1 Axes>"
      ]
     },
     "metadata": {
      "needs_background": "light"
     },
     "output_type": "display_data"
    }
   ],
   "source": [
    "plt.plot(epochs, acc, 'bo', label='Training acc')\n",
    "plt.plot(epochs, val_acc, 'b', label='Validation acc')\n",
    "plt.title('Training and validation accuracy')\n",
    "plt.xlabel('Epochs')\n",
    "plt.ylabel('Accuracy')\n",
    "plt.legend()\n",
    "\n",
    "plt.show()"
   ]
  },
  {
   "cell_type": "code",
   "execution_count": null,
   "id": "413ac1df",
   "metadata": {},
   "outputs": [],
   "source": [
    "#[E-06] 회고\n",
    "#프로젝트를 진행하며 어려웠던 점\n",
    "#==> 마지막으로 했던 모델의 값을 0.85이상으로 맞추는 것이 매우 어려웠다. 이를 해결하기 위해 처음에는 verbos, epoch, batch size를 변경하였으나\n",
    "#    운이 좋게 한번 0.85가 넘었지만 일시적인 것이 였고 나머지는 기준값을 넘지 못했다. 다음에는 밑에 history표를 보며 값의 안정성을 생각하여\n",
    "#    verbos의 값을 늘려 평균을 통해 마구 튀지않는 값을 도출 했지만 근본적인 해결책은 되지 않았다. 그리고 데이터의 훈련갯수와 검증갯수를 변경해\n",
    "#    보았지만 유효한 방법은 아니였다. 이를 해결한 것은 모델의 구성을 변경하는 것이였는데 위에 있는 1-D CNN , RNN, GlobalMaxPooling1D 중 가장\n",
    "#    안정적이고 높은 정확도를 가진 1-D CNN 모델의 구성을 채용하였고 결과적으로 기준값을 넘는 결과를 도출하였다.\n",
    "#\n",
    "#프로젝트를 진행하며 모호한 점\n",
    "#==> 단순한 궁금증이지만 위의 3개의 모델중 RNN이 유독 낮은 정확도를 보였는데 이를 아직 정확하게 이해하지 못해 모호한 상태이다. 내가 구조를\n",
    "#    아직 정확히 알지 못해 이런것이지 아니면 RNN 의 특성에 의해 이렇게 낮은 정확도가 나오는 것인지 추후 확인이 필요하다.\n",
    "#\n",
    "# 자기다짐\n",
    "#==> 오랫동안 같은 코드를 보며 그리고 비슷한 과정을 보며 처음과 다르게 어렴풋이 흐름이 보이는 것 같아 성장한 느낌이 든다. 하지만 아직 코드와 모델의\n",
    "#    실체를 정확히 보지 못하기에 많은 모델과 경우를 접하며 이해도와 경험을 쌓아야 한다는 생각이든다."
   ]
  }
 ],
 "metadata": {
  "kernelspec": {
   "display_name": "Python 3 (ipykernel)",
   "language": "python",
   "name": "python3"
  },
  "language_info": {
   "codemirror_mode": {
    "name": "ipython",
    "version": 3
   },
   "file_extension": ".py",
   "mimetype": "text/x-python",
   "name": "python",
   "nbconvert_exporter": "python",
   "pygments_lexer": "ipython3",
   "version": "3.9.7"
  }
 },
 "nbformat": 4,
 "nbformat_minor": 5
}
